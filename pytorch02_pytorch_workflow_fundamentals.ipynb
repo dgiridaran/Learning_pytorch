{
 "cells": [
  {
   "cell_type": "markdown",
   "metadata": {
    "id": "1A1YwjSG4OTS"
   },
   "source": [
    "## PyTorch Workflow Fundamentals"
   ]
  },
  {
   "cell_type": "code",
   "execution_count": 1,
   "metadata": {
    "id": "mfQecMXYoTBI"
   },
   "outputs": [],
   "source": [
    "import torch\n",
    "from torch import nn # nn contains all of PyTorch's building blocks for neural networks\n",
    "import matplotlib.pyplot as plt"
   ]
  },
  {
   "cell_type": "code",
   "execution_count": 2,
   "metadata": {
    "colab": {
     "base_uri": "https://localhost:8080/",
     "height": 36
    },
    "id": "NZUyUO4z5Wep",
    "outputId": "f72bbf64-3160-46e6-8bd2-7b649537386f"
   },
   "outputs": [
    {
     "data": {
      "text/plain": [
       "'2.3.1+cu118'"
      ]
     },
     "execution_count": 2,
     "metadata": {},
     "output_type": "execute_result"
    }
   ],
   "source": [
    "torch.__version__"
   ]
  },
  {
   "cell_type": "markdown",
   "metadata": {
    "id": "jgs65Vs08zDm"
   },
   "source": [
    "Machine learning is a game of two parts:\n",
    "\n",
    "1.   Turn your data, whatever it is, into numbers (a representation).\n",
    "2.   Pick or build a model to learn the representation as best as possible."
   ]
  },
  {
   "cell_type": "markdown",
   "metadata": {
    "id": "Iq1i_WEQ9JXc"
   },
   "source": [
    "Let's create our data as a straight line."
   ]
  },
  {
   "cell_type": "markdown",
   "metadata": {
    "id": "7HswjMUTW_Ii"
   },
   "source": [
    "## 1. Data (preparing and loading)"
   ]
  },
  {
   "cell_type": "code",
   "execution_count": 3,
   "metadata": {
    "colab": {
     "base_uri": "https://localhost:8080/"
    },
    "id": "wwQyB8_98cG3",
    "outputId": "a4756368-58f0-4281-f106-39a78ca0d215"
   },
   "outputs": [
    {
     "data": {
      "text/plain": [
       "(tensor([[0.0000],\n",
       "         [0.0200],\n",
       "         [0.0400],\n",
       "         [0.0600],\n",
       "         [0.0800],\n",
       "         [0.1000],\n",
       "         [0.1200],\n",
       "         [0.1400],\n",
       "         [0.1600],\n",
       "         [0.1800]]),\n",
       " tensor([[0.3000],\n",
       "         [0.3140],\n",
       "         [0.3280],\n",
       "         [0.3420],\n",
       "         [0.3560],\n",
       "         [0.3700],\n",
       "         [0.3840],\n",
       "         [0.3980],\n",
       "         [0.4120],\n",
       "         [0.4260]]))"
      ]
     },
     "execution_count": 3,
     "metadata": {},
     "output_type": "execute_result"
    }
   ],
   "source": [
    "# create known parameters\n",
    "\n",
    "weight = 0.7\n",
    "bias = 0.3\n",
    "\n",
    "# create data\n",
    "start = 0\n",
    "end = 1\n",
    "step = 0.02\n",
    "\n",
    "X = torch.arange(start, end, step).unsqueeze(dim=1)\n",
    "y = weight * X + bias\n",
    "\n",
    "X[:10], y[:10]"
   ]
  },
  {
   "cell_type": "markdown",
   "metadata": {
    "id": "gwQIjoFX-Pby"
   },
   "source": [
    "\n",
    "Beautiful! Now we're going to move towards building a model that can learn the relationship between X (features) and y (labels)."
   ]
  },
  {
   "cell_type": "code",
   "execution_count": 4,
   "metadata": {
    "colab": {
     "base_uri": "https://localhost:8080/"
    },
    "id": "YS4WbWBv9uhx",
    "outputId": "0a089de6-7822-42dc-d24a-5a95263121e3"
   },
   "outputs": [
    {
     "data": {
      "text/plain": [
       "(40, 40, 10, 10)"
      ]
     },
     "execution_count": 4,
     "metadata": {},
     "output_type": "execute_result"
    }
   ],
   "source": [
    "# create train / test split\n",
    "\n",
    "train_split = int(0.8 * len(X)) # 80% data on training set, 20% on test set\n",
    "\n",
    "X_train, y_train = X[:train_split], y[:train_split]\n",
    "X_test, y_test = X[train_split:], y[train_split:]\n",
    "\n",
    "len(X_train), len(y_train), len(X_test), len(y_test)"
   ]
  },
  {
   "cell_type": "code",
   "execution_count": 5,
   "metadata": {
    "id": "BgpXh62H_eDM"
   },
   "outputs": [],
   "source": [
    "# visuvalize the data\n",
    "\n",
    "def plot_prediction(train_data=X_train, train_label=y_train, test_data=X_test, test_label=y_test, prediction=None):\n",
    "\n",
    "  plt.figure(figsize=(10,7))\n",
    "\n",
    "  plt.scatter(train_data, train_label, c=\"b\", s=4, label='Training data')\n",
    "\n",
    "  plt.scatter(test_data, test_label, c=\"g\", s=4, label='Testing data')\n",
    "\n",
    "  if prediction is not None:\n",
    "    plt.scatter(test_data, prediction, c=\"r\", s=4, label='Predictions')\n",
    "\n",
    "  plt.legend(prop={\"size\": 14})"
   ]
  },
  {
   "cell_type": "code",
   "execution_count": 6,
   "metadata": {
    "colab": {
     "base_uri": "https://localhost:8080/",
     "height": 599
    },
    "id": "3yxC1cWoBS0b",
    "outputId": "17064378-d0f3-4564-8abe-094b1aec8a71"
   },
   "outputs": [
    {
     "data": {
      "image/png": "[encoded data removed]",
      "text/plain": [
       "<Figure size 1000x700 with 1 Axes>"
      ]
     },
     "metadata": {},
     "output_type": "display_data"
    }
   ],
   "source": [
    "plot_prediction()"
   ]
  },
  {
   "cell_type": "markdown",
   "metadata": {
    "id": "2AixnDsEBVnO"
   },
   "source": [
    "## 2. Build Model"
   ]
  },
  {
   "cell_type": "code",
   "execution_count": 7,
   "metadata": {
    "id": "uGmYdylNB_x1"
   },
   "outputs": [],
   "source": [
    "class LinearRegression(nn.Module):\n",
    "  def __init__(self):\n",
    "    super().__init__()\n",
    "    self.weight = nn.Parameter(torch.randn(1, dtype=torch.float), requires_grad=True)\n",
    "    self.bias = nn.Parameter(torch.randn(1, dtype=torch.float), requires_grad=True)\n",
    "\n",
    "  def forward(self, x: torch.Tensor) -> torch.Tensor:\n",
    "    return self.weight * x + self.bias  # y = m*x + b\n"
   ]
  },
  {
   "cell_type": "markdown",
   "metadata": {
    "id": "kfrVtNCATdqF"
   },
   "source": [
    "## Checking the contents of a PyTorch model"
   ]
  },
  {
   "cell_type": "code",
   "execution_count": 8,
   "metadata": {
    "colab": {
     "base_uri": "https://localhost:8080/"
    },
    "id": "inf-8swPCADA",
    "outputId": "eb8297f8-11b4-433f-a73c-3e0a8e271086"
   },
   "outputs": [
    {
     "data": {
      "text/plain": [
       "[Parameter containing:\n",
       " tensor([0.3367], requires_grad=True),\n",
       " Parameter containing:\n",
       " tensor([0.1288], requires_grad=True)]"
      ]
     },
     "execution_count": 8,
     "metadata": {},
     "output_type": "execute_result"
    }
   ],
   "source": [
    "torch.manual_seed(42)\n",
    "\n",
    "model_0 = LinearRegression()\n",
    "\n",
    "list(model_0.parameters())"
   ]
  },
  {
   "cell_type": "code",
   "execution_count": 9,
   "metadata": {
    "colab": {
     "base_uri": "https://localhost:8080/"
    },
    "id": "0NMc-SdeTs2d",
    "outputId": "ff45737b-d21e-4586-94d2-c03e817eed51"
   },
   "outputs": [
    {
     "data": {
      "text/plain": [
       "OrderedDict([('weight', tensor([0.3367])), ('bias', tensor([0.1288]))])"
      ]
     },
     "execution_count": 9,
     "metadata": {},
     "output_type": "execute_result"
    }
   ],
   "source": [
    "model_0.state_dict()"
   ]
  },
  {
   "cell_type": "markdown",
   "metadata": {
    "id": "FMp5CN-8UzPu"
   },
   "source": [
    "## Making predictions using `torch.inference_mode()`\n",
    "To check this we can pass it the test data X_test to see how closely it predicts `y_test`.\n",
    "\n",
    "When we pass data to our model, it'll go through the model's `forward()` method and produce a result using the computation we've defined.\n",
    "\n",
    "Let's make some predictions."
   ]
  },
  {
   "cell_type": "code",
   "execution_count": 10,
   "metadata": {
    "id": "G2rZpAeiT3iM"
   },
   "outputs": [],
   "source": [
    "with torch.inference_mode():\n",
    "  y_preds = model_0(X_test)"
   ]
  },
  {
   "cell_type": "markdown",
   "metadata": {
    "id": "ynbs584ZVw1X"
   },
   "source": [
    "**Note**: In older PyTorch code, you may also see `torch.no_grad()` being used for inference. While `torch.inference_mode()` and `torch.no_grad()` do similar things, `torch.inference_mode()` is newer, potentially faster and preferred."
   ]
  },
  {
   "cell_type": "code",
   "execution_count": 11,
   "metadata": {
    "colab": {
     "base_uri": "https://localhost:8080/"
    },
    "id": "kF9D2YnqVv5B",
    "outputId": "40fbc26c-8881-43c6-9c79-6e46a91a22b1"
   },
   "outputs": [
    {
     "data": {
      "text/plain": [
       "tensor([[0.3982],\n",
       "        [0.4049],\n",
       "        [0.4116],\n",
       "        [0.4184],\n",
       "        [0.4251],\n",
       "        [0.4318],\n",
       "        [0.4386],\n",
       "        [0.4453],\n",
       "        [0.4520],\n",
       "        [0.4588]])"
      ]
     },
     "execution_count": 11,
     "metadata": {},
     "output_type": "execute_result"
    }
   ],
   "source": [
    "y_preds"
   ]
  },
  {
   "cell_type": "code",
   "execution_count": 12,
   "metadata": {
    "colab": {
     "base_uri": "https://localhost:8080/",
     "height": 599
    },
    "id": "WM-HQZ6gV_kN",
    "outputId": "8cfa4332-4e28-4d87-faad-af0e068e478c"
   },
   "outputs": [
    {
     "data": {
      "image/png": "[encoded data removed]",
      "text/plain": [
       "<Figure size 1000x700 with 1 Axes>"
      ]
     },
     "metadata": {},
     "output_type": "display_data"
    }
   ],
   "source": [
    "plot_prediction(prediction=y_preds)"
   ]
  },
  {
   "cell_type": "code",
   "execution_count": 13,
   "metadata": {
    "colab": {
     "base_uri": "https://localhost:8080/"
    },
    "id": "7Y27GQ39WYQk",
    "outputId": "22557219-9593-4520-d126-adeedb2eb0fe"
   },
   "outputs": [
    {
     "data": {
      "text/plain": [
       "tensor([[0.4618],\n",
       "        [0.4691],\n",
       "        [0.4764],\n",
       "        [0.4836],\n",
       "        [0.4909],\n",
       "        [0.4982],\n",
       "        [0.5054],\n",
       "        [0.5127],\n",
       "        [0.5200],\n",
       "        [0.5272]])"
      ]
     },
     "execution_count": 13,
     "metadata": {},
     "output_type": "execute_result"
    }
   ],
   "source": [
    "y_test - y_preds"
   ]
  },
  {
   "cell_type": "markdown",
   "metadata": {
    "id": "kpHv1plcXDKW"
   },
   "source": [
    "## 3. Train model"
   ]
  },
  {
   "cell_type": "markdown",
   "metadata": {
    "id": "mwXkZ8ykXZN0"
   },
   "source": [
    "### Creating a loss function and optimizer in PyTorch:"
   ]
  },
  {
   "cell_type": "code",
   "execution_count": 14,
   "metadata": {
    "id": "E0B6EJy-WuNf"
   },
   "outputs": [],
   "source": [
    "# create the loss function\n",
    "loss_fn = nn.L1Loss() # MAE is same as L1loss\n",
    "\n",
    "# Create the optimizer\n",
    "optimizer = torch.optim.SGD(params=model_0.parameters(),  # parameters of target model to optimize\n",
    "                            lr=0.01)"
   ]
  },
  {
   "cell_type": "markdown",
   "metadata": {
    "id": "SmCSd9MyZjcr"
   },
   "source": [
    "### Creating an optimization loop in PyTorch"
   ]
  },
  {
   "cell_type": "markdown",
   "metadata": {
    "id": "jAp30QwKZclE"
   },
   "source": [
    "#### Let's put all of the above together and train our model for 100 epochs (forward passes through the data) and we'll evaluate it every 10 epochs."
   ]
  },
  {
   "cell_type": "code",
   "execution_count": 15,
   "metadata": {
    "colab": {
     "base_uri": "https://localhost:8080/"
    },
    "id": "BpQiFJ6ye2rX",
    "outputId": "7bfab9b4-9a2d-4d10-f7ef-b8721c7e3035"
   },
   "outputs": [
    {
     "name": "stdout",
     "output_type": "stream",
     "text": [
      "Epoch: 0 | MAE Train Loss: 0.31288138031959534 | MAE Test Loss : 0.48106518387794495\n",
      "Epoch: 10 | MAE Train Loss: 0.1976713240146637 | MAE Test Loss : 0.3463551998138428\n",
      "Epoch: 20 | MAE Train Loss: 0.08908725529909134 | MAE Test Loss : 0.21729660034179688\n",
      "Epoch: 30 | MAE Train Loss: 0.053148526698350906 | MAE Test Loss : 0.14464017748832703\n",
      "Epoch: 40 | MAE Train Loss: 0.04543796554207802 | MAE Test Loss : 0.11360953003168106\n",
      "Epoch: 50 | MAE Train Loss: 0.04167863354086876 | MAE Test Loss : 0.09919948130846024\n",
      "Epoch: 60 | MAE Train Loss: 0.03818932920694351 | MAE Test Loss : 0.08886633068323135\n",
      "Epoch: 70 | MAE Train Loss: 0.03476089984178543 | MAE Test Loss : 0.0805937647819519\n",
      "Epoch: 80 | MAE Train Loss: 0.03132382780313492 | MAE Test Loss : 0.07232122868299484\n",
      "Epoch: 90 | MAE Train Loss: 0.02788739837706089 | MAE Test Loss : 0.06473556160926819\n"
     ]
    }
   ],
   "source": [
    "torch.manual_seed(42)\n",
    "\n",
    "epochs = 100\n",
    "\n",
    "train_loss_value = []\n",
    "test_loss_value = []\n",
    "epoch_count = []\n",
    "\n",
    "for epoch in range(epochs):\n",
    "\n",
    "  ### Training\n",
    "\n",
    "  # Put model in training mode (this is the default state of a model)\n",
    "  model_0.train()\n",
    "\n",
    "  # 1. Forward pass on train data using the forward() method inside\n",
    "  y_pred = model_0(X_train)\n",
    "\n",
    "  # 2. Calculate the loss (how different are our models predictions to the ground truth)\n",
    "  loss = loss_fn(y_pred, y_train)\n",
    "\n",
    "  # 3. Zero grad of the optimizer\n",
    "  optimizer.zero_grad()\n",
    "\n",
    "  # 4. Loss backwards\n",
    "  loss.backward()\n",
    "\n",
    "  # 5. Progress the optimizer\n",
    "  optimizer.step()\n",
    "\n",
    "  ### Testing\n",
    "\n",
    "  # Put the model in evaluation mode\n",
    "  model_0.eval()\n",
    "\n",
    "  with torch.inference_mode():\n",
    "\n",
    "    test_pred = model_0(X_test)\n",
    "\n",
    "    test_loss = loss_fn(test_pred, y_test.type(torch.float))\n",
    "\n",
    "    if epoch % 10 == 0:\n",
    "      epoch_count.append(epoch)\n",
    "      train_loss_value.append(loss.detach().numpy())\n",
    "      test_loss_value.append(test_loss.detach().numpy())\n",
    "      print(f\"Epoch: {epoch} | MAE Train Loss: {loss} | MAE Test Loss : {test_loss}\")"
   ]
  },
  {
   "cell_type": "code",
   "execution_count": 16,
   "metadata": {
    "colab": {
     "base_uri": "https://localhost:8080/",
     "height": 472
    },
    "id": "iL0evnH7i2EZ",
    "outputId": "80acfca0-e012-4367-a1eb-ee14b0e831aa"
   },
   "outputs": [
    {
     "data": {
      "image/png": "[encoded data removed]",
      "text/plain": [
       "<Figure size 640x480 with 1 Axes>"
      ]
     },
     "metadata": {},
     "output_type": "display_data"
    }
   ],
   "source": [
    "# Plot the loss curve\n",
    "\n",
    "plt.plot(epoch_count, train_loss_value, label='Train_loss')\n",
    "plt.plot(epoch_count, test_loss_value, label='Test_loss')\n",
    "\n",
    "plt.title(\"Training  and test loss curves\")\n",
    "plt.ylabel(\"loss\")\n",
    "plt.xlabel(\"Epochs\")\n",
    "plt.legend()\n",
    "plt.show()"
   ]
  },
  {
   "cell_type": "code",
   "execution_count": 17,
   "metadata": {
    "colab": {
     "base_uri": "https://localhost:8080/"
    },
    "id": "xKuLYX2NjrEw",
    "outputId": "35599eca-f0ce-49a6-868d-a60ee95b12bd"
   },
   "outputs": [
    {
     "data": {
      "text/plain": [
       "OrderedDict([('weight', tensor([0.5784])), ('bias', tensor([0.3513]))])"
      ]
     },
     "execution_count": 17,
     "metadata": {},
     "output_type": "execute_result"
    }
   ],
   "source": [
    "# Find our model's learned parameters\n",
    "\n",
    "model_0.state_dict()"
   ]
  },
  {
   "cell_type": "code",
   "execution_count": 18,
   "metadata": {
    "colab": {
     "base_uri": "https://localhost:8080/"
    },
    "id": "w2JFWlHfkBYh",
    "outputId": "990b90c8-0d69-451a-951f-e9f1148b9cb2"
   },
   "outputs": [
    {
     "name": "stdout",
     "output_type": "stream",
     "text": [
      "weight: 0.7, bias:0.3\n"
     ]
    }
   ],
   "source": [
    "# original weight and bias\n",
    "\n",
    "print(f\"weight: {weight}, bias:{bias}\")"
   ]
  },
  {
   "cell_type": "markdown",
   "metadata": {
    "id": "5p608yEBlGWJ"
   },
   "source": [
    "### let's run 200 epochs"
   ]
  },
  {
   "cell_type": "code",
   "execution_count": 19,
   "metadata": {
    "colab": {
     "base_uri": "https://localhost:8080/"
    },
    "id": "elXnsQR-kMD-",
    "outputId": "eff368b7-abf1-4174-b95d-9f56c80b5a20"
   },
   "outputs": [
    {
     "name": "stdout",
     "output_type": "stream",
     "text": [
      "Epoch: 0 | MAE Train Loss: 0.024458957836031914 | MAE Test Loss : 0.05646304413676262\n",
      "Epoch: 10 | MAE Train Loss: 0.021020207554101944 | MAE Test Loss : 0.04819049686193466\n",
      "Epoch: 20 | MAE Train Loss: 0.01758546568453312 | MAE Test Loss : 0.04060482233762741\n",
      "Epoch: 30 | MAE Train Loss: 0.014155393466353416 | MAE Test Loss : 0.03233227878808975\n",
      "Epoch: 40 | MAE Train Loss: 0.010716589167714119 | MAE Test Loss : 0.024059748277068138\n",
      "Epoch: 50 | MAE Train Loss: 0.0072835334576666355 | MAE Test Loss : 0.016474086791276932\n",
      "Epoch: 60 | MAE Train Loss: 0.0038517764769494534 | MAE Test Loss : 0.008201557211577892\n",
      "Epoch: 70 | MAE Train Loss: 0.008932482451200485 | MAE Test Loss : 0.005023092031478882\n",
      "Epoch: 80 | MAE Train Loss: 0.008932482451200485 | MAE Test Loss : 0.005023092031478882\n",
      "Epoch: 90 | MAE Train Loss: 0.008932482451200485 | MAE Test Loss : 0.005023092031478882\n",
      "Epoch: 100 | MAE Train Loss: 0.008932482451200485 | MAE Test Loss : 0.005023092031478882\n",
      "Epoch: 110 | MAE Train Loss: 0.008932482451200485 | MAE Test Loss : 0.005023092031478882\n",
      "Epoch: 120 | MAE Train Loss: 0.008932482451200485 | MAE Test Loss : 0.005023092031478882\n",
      "Epoch: 130 | MAE Train Loss: 0.008932482451200485 | MAE Test Loss : 0.005023092031478882\n",
      "Epoch: 140 | MAE Train Loss: 0.008932482451200485 | MAE Test Loss : 0.005023092031478882\n",
      "Epoch: 150 | MAE Train Loss: 0.008932482451200485 | MAE Test Loss : 0.005023092031478882\n",
      "Epoch: 160 | MAE Train Loss: 0.008932482451200485 | MAE Test Loss : 0.005023092031478882\n",
      "Epoch: 170 | MAE Train Loss: 0.008932482451200485 | MAE Test Loss : 0.005023092031478882\n",
      "Epoch: 180 | MAE Train Loss: 0.008932482451200485 | MAE Test Loss : 0.005023092031478882\n",
      "Epoch: 190 | MAE Train Loss: 0.008932482451200485 | MAE Test Loss : 0.005023092031478882\n"
     ]
    }
   ],
   "source": [
    "\n",
    "\n",
    "torch.manual_seed(42)\n",
    "\n",
    "epochs = 200\n",
    "\n",
    "train_loss_value = []\n",
    "test_loss_value = []\n",
    "epoch_count = []\n",
    "\n",
    "for epoch in range(epochs):\n",
    "\n",
    "  ### Training\n",
    "\n",
    "  # Put model in training mode (this is the default state of a model)\n",
    "  model_0.train()\n",
    "\n",
    "  # 1. Forward pass on train data using the forward() method inside\n",
    "  y_pred = model_0(X_train)\n",
    "\n",
    "  # 2. Calculate the loss (how different are our models predictions to the ground truth)\n",
    "  loss = loss_fn(y_pred, y_train)\n",
    "\n",
    "  # 3. Zero grad of the optimizer\n",
    "  optimizer.zero_grad()\n",
    "\n",
    "  # 4. Loss backwards\n",
    "  loss.backward()\n",
    "\n",
    "  # 5. Progress the optimizer\n",
    "  optimizer.step()\n",
    "\n",
    "  ### Testing\n",
    "\n",
    "  # Put the model in evaluation mode\n",
    "  model_0.eval()\n",
    "\n",
    "  with torch.inference_mode():\n",
    "\n",
    "    test_pred = model_0(X_test)\n",
    "\n",
    "    test_loss = loss_fn(test_pred, y_test.type(torch.float))\n",
    "\n",
    "    if epoch % 10 == 0:\n",
    "      epoch_count.append(epoch)\n",
    "      train_loss_value.append(loss.detach().numpy())\n",
    "      test_loss_value.append(test_loss.detach().numpy())\n",
    "      print(f\"Epoch: {epoch} | MAE Train Loss: {loss} | MAE Test Loss : {test_loss}\")"
   ]
  },
  {
   "cell_type": "code",
   "execution_count": 20,
   "metadata": {
    "colab": {
     "base_uri": "https://localhost:8080/",
     "height": 472
    },
    "id": "2aouqwHKk0hz",
    "outputId": "9c8f53a4-81ef-4307-8f66-292167e987a6"
   },
   "outputs": [
    {
     "data": {
      "image/png": "[encoded data removed]",
      "text/plain": [
       "<Figure size 640x480 with 1 Axes>"
      ]
     },
     "metadata": {},
     "output_type": "display_data"
    }
   ],
   "source": [
    "plt.plot(epoch_count, train_loss_value, label='Train_loss')\n",
    "plt.plot(epoch_count, test_loss_value, label='Test_loss')\n",
    "\n",
    "plt.title(\"Training  and test loss curves\")\n",
    "plt.ylabel(\"loss\")\n",
    "plt.xlabel(\"Epochs\")\n",
    "plt.legend()\n",
    "plt.show()"
   ]
  },
  {
   "cell_type": "markdown",
   "metadata": {
    "id": "kUa_07zKJuLc"
   },
   "source": [
    "## 4. Making predictions with a trained PyTorch model (inference)"
   ]
  },
  {
   "cell_type": "code",
   "execution_count": 21,
   "metadata": {
    "colab": {
     "base_uri": "https://localhost:8080/"
    },
    "id": "dMSh2AP6k2VM",
    "outputId": "400f722a-4446-4791-948c-6555cb8322c0"
   },
   "outputs": [
    {
     "data": {
      "text/plain": [
       "tensor([[0.8685],\n",
       "        [0.8825],\n",
       "        [0.8965],\n",
       "        [0.9105],\n",
       "        [0.9245],\n",
       "        [0.9384],\n",
       "        [0.9524],\n",
       "        [0.9664],\n",
       "        [0.9804],\n",
       "        [0.9944]])"
      ]
     },
     "execution_count": 21,
     "metadata": {},
     "output_type": "execute_result"
    }
   ],
   "source": [
    "model_0.eval()\n",
    "\n",
    "with torch.inference_mode():\n",
    "\n",
    "  y_pred = model_0(X_test)\n",
    "\n",
    "\n",
    "y_pred"
   ]
  },
  {
   "cell_type": "code",
   "execution_count": 22,
   "metadata": {
    "colab": {
     "base_uri": "https://localhost:8080/",
     "height": 599
    },
    "id": "n_OPh2MIJU3i",
    "outputId": "2efa6f05-4aff-4cb5-bc9c-00942cf65138"
   },
   "outputs": [
    {
     "data": {
      "image/png": "[encoded data removed]",
      "text/plain": [
       "<Figure size 1000x700 with 1 Axes>"
      ]
     },
     "metadata": {},
     "output_type": "display_data"
    }
   ],
   "source": [
    "plot_prediction(prediction=y_pred)"
   ]
  },
  {
   "cell_type": "markdown",
   "metadata": {
    "id": "8x_VMBZMKmTB"
   },
   "source": [
    "## 5. Saving and loading a PyTorch model"
   ]
  },
  {
   "cell_type": "code",
   "execution_count": 23,
   "metadata": {
    "id": "gkE9DNNLJkzs"
   },
   "outputs": [],
   "source": [
    "from pathlib import Path"
   ]
  },
  {
   "cell_type": "code",
   "execution_count": 24,
   "metadata": {
    "colab": {
     "base_uri": "https://localhost:8080/"
    },
    "id": "4rTwwT1rMNc3",
    "outputId": "13e6a5d7-cb93-4432-e054-a1f6888e410f"
   },
   "outputs": [
    {
     "name": "stdout",
     "output_type": "stream",
     "text": [
      "Model save path models\\01_pytorch_workflow_model_0.pth\n"
     ]
    }
   ],
   "source": [
    "# create model directory\n",
    "MODEL_PATH = Path(\"models\")\n",
    "MODEL_PATH.mkdir(parents=True, exist_ok=True)\n",
    "\n",
    "# create a model save path\n",
    "MODEL_NAME = \"01_pytorch_workflow_model_0.pth\"\n",
    "MODEL_SAVE_PATH = MODEL_PATH / MODEL_NAME\n",
    "\n",
    "# save the model state dict\n",
    "print(f\"Model save path {MODEL_SAVE_PATH}\")\n",
    "torch.save(obj=model_0.state_dict(), # only saving the state_dict() only saves the models learned parameters\n",
    "           f=MODEL_SAVE_PATH)"
   ]
  },
  {
   "cell_type": "code",
   "execution_count": 25,
   "metadata": {
    "colab": {
     "base_uri": "https://localhost:8080/"
    },
    "id": "98JhKPfKN9et",
    "outputId": "06de89cb-9f22-4cde-cb53-b816db234b24"
   },
   "outputs": [
    {
     "name": "stdout",
     "output_type": "stream",
     "text": [
      "-rw-r--r-- 1 Giridaran Administrators 1680 Oct 15 14:47 models/01_pytorch_workflow_model_0.pth\n"
     ]
    }
   ],
   "source": [
    "# Check the saved file path\n",
    "!ls -l models/01_pytorch_workflow_model_0.pth"
   ]
  },
  {
   "cell_type": "markdown",
   "metadata": {
    "id": "QwRUo3Edmm2Z"
   },
   "source": [
    "Saving a PyTorch model's `state_dict()`\n",
    "The recommended way for saving and loading a model for inference (making predictions) is by saving and loading a model's `state_dict()`.\n",
    "\n",
    "Let's see how we can do that in a few steps:\n",
    "\n",
    "We'll create a directory for saving models to called models using Python's pathlib module.\n",
    "We'll create a file path to save the model to.\n",
    "We'll call torch.save(obj, f) where obj is the target model's `state_dict()` and f is the filename of where to save the model.\n",
    "Note: It's common convention for PyTorch saved models or objects to end with .pt or .pth, like saved_model_01.pth."
   ]
  },
  {
   "cell_type": "markdown",
   "metadata": {
    "id": "R9k0DyumoMv_"
   },
   "source": [
    "Loading a saved PyTorch model's `state_dict()`\n",
    "\n",
    "Since we've now got a saved model `state_dict() `at models/01_pytorch_workflow_model_0.pth we can now load it in using torch.nn.Module.`load_state_dict(torch.load(f))` where f is the filepath of our saved model `state_dict()`.\n",
    "\n",
    "Why call `torch.load()` inside `torch.nn.Module.load_state_dict()`?\n",
    "\n",
    "Because we only saved the model's state_dict() which is a dictionary of learned parameters and not the entire model, we first have to load the `state_dict()` with `torch.load()` and then pass that `state_dict()` to a new instance of our model (which is a subclass of nn.Module).\n",
    "\n",
    "Why not save the entire model?\n",
    "\n",
    "Saving the entire model rather than just the `state_dict() `is more intuitive, however, to quote the PyTorch documentation (italics mine):\n",
    "\n",
    "The disadvantage of this approach (saving the whole model) is that the serialized data is bound to the specific classes and the exact directory structure used when the model is saved...\n",
    "\n",
    "Because of this, your code can break in various ways when used in other projects or after refactors."
   ]
  },
  {
   "cell_type": "markdown",
   "metadata": {
    "id": "KdiqkIDDpK2A"
   },
   "source": [
    "So instead, we're using the flexible method of saving and loading just the `state_dict()`, which again is basically a dictionary of model parameters.\n",
    "\n",
    "Let's test it out by creating another instance of `LinearRegressionModel()`, which is a subclass of torch.nn.Module and will hence have the in-built method `load_state_dict()`."
   ]
  },
  {
   "cell_type": "code",
   "execution_count": 26,
   "metadata": {
    "colab": {
     "base_uri": "https://localhost:8080/"
    },
    "id": "iANkJw6BOaY8",
    "outputId": "d9531ea0-fff1-47cf-dc17-dd26d47628f7"
   },
   "outputs": [
    {
     "data": {
      "text/plain": [
       "<All keys matched successfully>"
      ]
     },
     "execution_count": 26,
     "metadata": {},
     "output_type": "execute_result"
    }
   ],
   "source": [
    "loaded_model_0 = LinearRegression()\n",
    "\n",
    "loaded_model_0.load_state_dict(torch.load(f=MODEL_SAVE_PATH))"
   ]
  },
  {
   "cell_type": "code",
   "execution_count": 27,
   "metadata": {
    "id": "Mkq1DyXbpdaL"
   },
   "outputs": [],
   "source": [
    "loaded_model_0.eval()\n",
    "\n",
    "\n",
    "with torch.inference_mode():\n",
    "  loaded_model_pred = loaded_model_0(X_test)"
   ]
  },
  {
   "cell_type": "code",
   "execution_count": 28,
   "metadata": {
    "colab": {
     "base_uri": "https://localhost:8080/"
    },
    "id": "uPhUveDQpyJQ",
    "outputId": "73cc2574-b927-4985-ed07-c0c9ffe07760"
   },
   "outputs": [
    {
     "data": {
      "text/plain": [
       "tensor([[True],\n",
       "        [True],\n",
       "        [True],\n",
       "        [True],\n",
       "        [True],\n",
       "        [True],\n",
       "        [True],\n",
       "        [True],\n",
       "        [True],\n",
       "        [True]])"
      ]
     },
     "execution_count": 28,
     "metadata": {},
     "output_type": "execute_result"
    }
   ],
   "source": [
    "y_pred == loaded_model_pred"
   ]
  },
  {
   "cell_type": "markdown",
   "metadata": {
    "id": "K4cxe8tdqthO"
   },
   "source": [
    "## 6. Putting it all together"
   ]
  },
  {
   "cell_type": "markdown",
   "metadata": {
    "id": "VBj0hT2Iqv4H"
   },
   "source": [
    "We've covered a fair bit of ground so far.\n",
    "\n",
    "But once you've had some practice, you'll be performing the above steps like dancing down the street.\n",
    "\n",
    "Speaking of practice, let's put everything we've done so far together.\n",
    "\n",
    "Except this time we'll make our code device agnostic (so if there's a GPU available, it'll use it and if not, it will default to the CPU).\n",
    "\n",
    "There'll be far less commentary in this section than above since what we're going to go through has already been covered.\n",
    "\n",
    "We'll start by importing the standard libraries we need.\n"
   ]
  },
  {
   "cell_type": "code",
   "execution_count": 29,
   "metadata": {
    "colab": {
     "base_uri": "https://localhost:8080/",
     "height": 36
    },
    "id": "QnTaEQBCp4ja",
    "outputId": "39aa040b-41d9-4c45-d706-01d915a7777a"
   },
   "outputs": [
    {
     "data": {
      "text/plain": [
       "'2.3.1+cu118'"
      ]
     },
     "execution_count": 29,
     "metadata": {},
     "output_type": "execute_result"
    }
   ],
   "source": [
    "# Import PyTorch and matplotlib\n",
    "import torch\n",
    "from torch import nn # nn contains all of PyTorch's building blocks for neural networks\n",
    "import matplotlib.pyplot as plt\n",
    "\n",
    "# Check PyTorch version\n",
    "torch.__version__"
   ]
  },
  {
   "cell_type": "code",
   "execution_count": 30,
   "metadata": {
    "colab": {
     "base_uri": "https://localhost:8080/"
    },
    "id": "nH9fogtwqzEp",
    "outputId": "d2cd05bd-cf16-42a0-8a46-8777937544bd"
   },
   "outputs": [
    {
     "name": "stdout",
     "output_type": "stream",
     "text": [
      "cuda\n"
     ]
    }
   ],
   "source": [
    "device = 'cuda' if torch.cuda.is_available() else \"cpu\"\n",
    "print(device)"
   ]
  },
  {
   "cell_type": "code",
   "execution_count": 31,
   "metadata": {
    "colab": {
     "base_uri": "https://localhost:8080/"
    },
    "id": "25D92pg5rE4E",
    "outputId": "0ced72bc-0f25-49dc-83ff-eb8f0689c7cc"
   },
   "outputs": [
    {
     "data": {
      "text/plain": [
       "(tensor([[0.0000],\n",
       "         [0.0200],\n",
       "         [0.0400],\n",
       "         [0.0600],\n",
       "         [0.0800],\n",
       "         [0.1000],\n",
       "         [0.1200],\n",
       "         [0.1400],\n",
       "         [0.1600],\n",
       "         [0.1800]]),\n",
       " tensor([[0.3000],\n",
       "         [0.3140],\n",
       "         [0.3280],\n",
       "         [0.3420],\n",
       "         [0.3560],\n",
       "         [0.3700],\n",
       "         [0.3840],\n",
       "         [0.3980],\n",
       "         [0.4120],\n",
       "         [0.4260]]))"
      ]
     },
     "execution_count": 31,
     "metadata": {},
     "output_type": "execute_result"
    }
   ],
   "source": [
    "# Create weight and bias\n",
    "weight = 0.7\n",
    "bias = 0.3\n",
    "\n",
    "# Create range values\n",
    "start = 0\n",
    "end = 1\n",
    "step = 0.02\n",
    "\n",
    "# Create X and y (features and labels)\n",
    "X = torch.arange(start, end, step).unsqueeze(dim=1) # without unsqueeze, errors will happen later on (shapes within linear layers)\n",
    "y = weight * X + bias\n",
    "X[:10], y[:10]"
   ]
  },
  {
   "cell_type": "code",
   "execution_count": 32,
   "metadata": {
    "colab": {
     "base_uri": "https://localhost:8080/"
    },
    "id": "mW11yjOZWO54",
    "outputId": "3608dfc1-a9b1-4f86-c8b6-c81efd6b2e82"
   },
   "outputs": [
    {
     "data": {
      "text/plain": [
       "(40, 40, 10, 10)"
      ]
     },
     "execution_count": 32,
     "metadata": {},
     "output_type": "execute_result"
    }
   ],
   "source": [
    "# Split data\n",
    "train_split = int(0.8 * len(X))\n",
    "X_train, y_train = X[:train_split], y[:train_split]\n",
    "X_test, y_test = X[train_split:], y[train_split:]\n",
    "\n",
    "len(X_train), len(y_train), len(X_test), len(y_test)"
   ]
  },
  {
   "cell_type": "code",
   "execution_count": 33,
   "metadata": {
    "colab": {
     "base_uri": "https://localhost:8080/",
     "height": 599
    },
    "id": "x8ZC9rFtWS7-",
    "outputId": "8642268e-2b67-4c1d-fa1d-d5263931b20d"
   },
   "outputs": [
    {
     "data": {
      "image/png": "[encoded data removed]",
      "text/plain": [
       "<Figure size 1000x700 with 1 Axes>"
      ]
     },
     "metadata": {},
     "output_type": "display_data"
    }
   ],
   "source": [
    "# Note: If you've reset your runtime, this function won't work,\n",
    "# you'll have to rerun the cell above where it's instantiated.\n",
    "plot_prediction(X_train, y_train, X_test, y_test)"
   ]
  },
  {
   "cell_type": "code",
   "execution_count": 34,
   "metadata": {
    "colab": {
     "base_uri": "https://localhost:8080/"
    },
    "id": "gWtuczVoWUoi",
    "outputId": "6091cde6-0808-4f56-953d-20cd2602b71c"
   },
   "outputs": [
    {
     "data": {
      "text/plain": [
       "(LinearRegressionModelV2(\n",
       "   (linear_layer): Linear(in_features=1, out_features=1, bias=True)\n",
       " ),\n",
       " OrderedDict([('linear_layer.weight', tensor([[0.7645]])),\n",
       "              ('linear_layer.bias', tensor([0.8300]))]))"
      ]
     },
     "execution_count": 34,
     "metadata": {},
     "output_type": "execute_result"
    }
   ],
   "source": [
    "# Subclass nn.Module to make our model\n",
    "class LinearRegressionModelV2(nn.Module):\n",
    "    def __init__(self):\n",
    "        super().__init__()\n",
    "        # Use nn.Linear() for creating the model parameters\n",
    "        self.linear_layer = nn.Linear(in_features=1,\n",
    "                                      out_features=1)\n",
    "\n",
    "    # Define the forward computation (input data x flows through nn.Linear())\n",
    "    def forward(self, x: torch.Tensor) -> torch.Tensor:\n",
    "        return self.linear_layer(x)\n",
    "\n",
    "# Set the manual seed when creating the model (this isn't always needed but is used for demonstrative purposes, try commenting it out and seeing what happens)\n",
    "torch.manual_seed(42)\n",
    "model_1 = LinearRegressionModelV2()\n",
    "model_1, model_1.state_dict()"
   ]
  },
  {
   "cell_type": "markdown",
   "metadata": {
    "id": "TBK_KnyyXWWs"
   },
   "source": [
    "Now let's put our model on the GPU (if it's available).\n",
    "\n",
    "We can change the device our PyTorch objects are on using `.to(device)`.\n",
    "\n",
    "First let's check the model's current device"
   ]
  },
  {
   "cell_type": "code",
   "execution_count": 35,
   "metadata": {
    "colab": {
     "base_uri": "https://localhost:8080/"
    },
    "id": "bYnpYoTRW_ZF",
    "outputId": "560eff5b-ef34-4379-a54b-73d2c03f02f9"
   },
   "outputs": [
    {
     "data": {
      "text/plain": [
       "device(type='cpu')"
      ]
     },
     "execution_count": 35,
     "metadata": {},
     "output_type": "execute_result"
    }
   ],
   "source": [
    "next(model_1.parameters()).device"
   ]
  },
  {
   "cell_type": "markdown",
   "metadata": {
    "id": "P4GD_OxIXs43"
   },
   "source": [
    "Wonderful, looks like the model's on the CPU by default.\n",
    "\n",
    "Let's change it to be on the GPU (if it's available)."
   ]
  },
  {
   "cell_type": "code",
   "execution_count": 36,
   "metadata": {
    "colab": {
     "base_uri": "https://localhost:8080/"
    },
    "id": "8jK64GI3XetA",
    "outputId": "ff9c898e-1fc2-4aa4-e7ba-704572d8f7db"
   },
   "outputs": [
    {
     "data": {
      "text/plain": [
       "device(type='cuda', index=0)"
      ]
     },
     "execution_count": 36,
     "metadata": {},
     "output_type": "execute_result"
    }
   ],
   "source": [
    "model_1.to(device)\n",
    "next(model_1.parameters()).device"
   ]
  },
  {
   "cell_type": "code",
   "execution_count": 37,
   "metadata": {
    "id": "NXsOanN2X1o5"
   },
   "outputs": [],
   "source": [
    "# Create loss function\n",
    "loss_fn = nn.L1Loss()\n",
    "\n",
    "# Create optimizer\n",
    "optimizer = torch.optim.SGD(params=model_1.parameters(), # optimize newly created model's parameters\n",
    "                            lr=0.01)"
   ]
  },
  {
   "cell_type": "markdown",
   "metadata": {
    "id": "FCVUXi7lYfR5"
   },
   "source": [
    "Beautiful, loss function and optimizer ready, now let's train and evaluate our model using a training and testing loop.\n",
    "\n",
    "The only different thing we'll be doing in this step compared to the previous training loop is putting the data on the target device.\n",
    "\n",
    "We've already put our model on the target device using `model_1.to(device)`.\n",
    "\n",
    "And we can do the same with the data.\n",
    "\n",
    "That way if the model is on the GPU, the data is on the GPU (and vice versa).\n",
    "\n",
    "Let's step things up a notch this time and set `epochs=1000`."
   ]
  },
  {
   "cell_type": "code",
   "execution_count": 38,
   "metadata": {
    "colab": {
     "base_uri": "https://localhost:8080/"
    },
    "id": "K7atdIMmYNqU",
    "outputId": "eb816cf0-f603-43cd-c904-30036156a6a3"
   },
   "outputs": [
    {
     "name": "stdout",
     "output_type": "stream",
     "text": [
      "Epoch: 0 | Train loss: 0.5551779866218567 | Test loss: 0.5739762187004089\n",
      "Epoch: 100 | Train loss: 0.006215683650225401 | Test loss: 0.014086711220443249\n",
      "Epoch: 200 | Train loss: 0.0012645035749301314 | Test loss: 0.013801801018416882\n",
      "Epoch: 300 | Train loss: 0.0012645035749301314 | Test loss: 0.013801801018416882\n",
      "Epoch: 400 | Train loss: 0.0012645035749301314 | Test loss: 0.013801801018416882\n",
      "Epoch: 500 | Train loss: 0.0012645035749301314 | Test loss: 0.013801801018416882\n",
      "Epoch: 600 | Train loss: 0.0012645035749301314 | Test loss: 0.013801801018416882\n",
      "Epoch: 700 | Train loss: 0.0012645035749301314 | Test loss: 0.013801801018416882\n",
      "Epoch: 800 | Train loss: 0.0012645035749301314 | Test loss: 0.013801801018416882\n",
      "Epoch: 900 | Train loss: 0.0012645035749301314 | Test loss: 0.013801801018416882\n"
     ]
    }
   ],
   "source": [
    "torch.manual_seed(42)\n",
    "\n",
    "# Set the number of epochs\n",
    "epochs = 1000\n",
    "\n",
    "# Put data on the available device\n",
    "# Without this, error will happen (not all model/data on device)\n",
    "X_train = X_train.to(device)\n",
    "X_test = X_test.to(device)\n",
    "y_train = y_train.to(device)\n",
    "y_test = y_test.to(device)\n",
    "\n",
    "for epoch in range(epochs):\n",
    "    ### Training\n",
    "    model_1.train() # train mode is on by default after construction\n",
    "\n",
    "    # 1. Forward pass\n",
    "    y_pred = model_1(X_train)\n",
    "\n",
    "    # 2. Calculate loss\n",
    "    loss = loss_fn(y_pred, y_train)\n",
    "\n",
    "    # 3. Zero grad optimizer\n",
    "    optimizer.zero_grad()\n",
    "\n",
    "    # 4. Loss backward\n",
    "    loss.backward()\n",
    "\n",
    "    # 5. Step the optimizer\n",
    "    optimizer.step()\n",
    "\n",
    "    ### Testing\n",
    "    model_1.eval() # put the model in evaluation mode for testing (inference)\n",
    "    # 1. Forward pass\n",
    "    with torch.inference_mode():\n",
    "        test_pred = model_1(X_test)\n",
    "\n",
    "        # 2. Calculate the loss\n",
    "        test_loss = loss_fn(test_pred, y_test)\n",
    "\n",
    "    if epoch % 100 == 0:\n",
    "        print(f\"Epoch: {epoch} | Train loss: {loss} | Test loss: {test_loss}\")"
   ]
  },
  {
   "cell_type": "code",
   "execution_count": 39,
   "metadata": {
    "colab": {
     "base_uri": "https://localhost:8080/"
    },
    "id": "IJ5x1OBNZSnD",
    "outputId": "30d7bf81-599d-492d-ed03-ae2243d4b232"
   },
   "outputs": [
    {
     "name": "stdout",
     "output_type": "stream",
     "text": [
      "The model learned the following values for weights and bias:\n",
      "OrderedDict([('linear_layer.weight', tensor([[0.6968]], device='cuda:0')),\n",
      "             ('linear_layer.bias', tensor([0.3025], device='cuda:0'))])\n",
      "\n",
      "And the original values for weights and bias are:\n",
      "weights: 0.7, bias: 0.3\n"
     ]
    }
   ],
   "source": [
    "# Find our model's learned parameters\n",
    "from pprint import pprint # pprint = pretty print, see: https://docs.python.org/3/library/pprint.html\n",
    "print(\"The model learned the following values for weights and bias:\")\n",
    "pprint(model_1.state_dict())\n",
    "print(\"\\nAnd the original values for weights and bias are:\")\n",
    "print(f\"weights: {weight}, bias: {bias}\")"
   ]
  },
  {
   "cell_type": "markdown",
   "metadata": {
    "id": "1Ihc4enFZ2_l"
   },
   "source": [
    "## Making predictions"
   ]
  },
  {
   "cell_type": "code",
   "execution_count": 40,
   "metadata": {
    "colab": {
     "base_uri": "https://localhost:8080/"
    },
    "id": "IsyztijAZd6i",
    "outputId": "b567c237-585b-4f58-a485-3423f7793c3b"
   },
   "outputs": [
    {
     "data": {
      "text/plain": [
       "tensor([[0.8600],\n",
       "        [0.8739],\n",
       "        [0.8878],\n",
       "        [0.9018],\n",
       "        [0.9157],\n",
       "        [0.9296],\n",
       "        [0.9436],\n",
       "        [0.9575],\n",
       "        [0.9714],\n",
       "        [0.9854]], device='cuda:0')"
      ]
     },
     "execution_count": 40,
     "metadata": {},
     "output_type": "execute_result"
    }
   ],
   "source": [
    "# Turn model into evaluation mode\n",
    "model_1.eval()\n",
    "\n",
    "# Make predictions on the test data\n",
    "with torch.inference_mode():\n",
    "    y_preds = model_1(X_test)\n",
    "y_preds"
   ]
  },
  {
   "cell_type": "markdown",
   "metadata": {
    "id": "3IsCAU3OaEHM"
   },
   "source": [
    "If you're making predictions with data on the GPU, you might notice the output of the above has device='cuda:0' towards the end. That means the data is on CUDA device 0 (the first GPU your system has access to due to zero-indexing), if you end up using multiple GPUs in the future, this number may be higher."
   ]
  },
  {
   "cell_type": "markdown",
   "metadata": {
    "id": "dKO4BO4JamTb"
   },
   "source": [
    "**Note**: Many data science libraries such as pandas, matplotlib and NumPy aren't capable of using data that is stored on GPU. So you might run into some issues when trying to use a function from one of these libraries with tensor data not stored on the CPU. To fix this, you can call .cpu() on your target tensor to return a copy of your target tensor on the CPU."
   ]
  },
  {
   "cell_type": "code",
   "execution_count": 41,
   "metadata": {
    "colab": {
     "base_uri": "https://localhost:8080/",
     "height": 599
    },
    "id": "tKMkNtDxZ62R",
    "outputId": "24d95dff-cd19-4cbb-abe3-bd7f0b3edd90"
   },
   "outputs": [
    {
     "data": {
      "image/png": "[encoded data removed]",
      "text/plain": [
       "<Figure size 1000x700 with 1 Axes>"
      ]
     },
     "metadata": {},
     "output_type": "display_data"
    }
   ],
   "source": [
    "# plot_predictions(predictions=y_preds) # -> won't work... data not on CPU\n",
    "\n",
    "# Put data on the CPU and plot it\n",
    "plot_prediction(prediction=y_preds.cpu())"
   ]
  },
  {
   "cell_type": "markdown",
   "metadata": {
    "id": "qj6liUAma4vU"
   },
   "source": [
    "## Saving and loading a model"
   ]
  },
  {
   "cell_type": "code",
   "execution_count": 42,
   "metadata": {
    "colab": {
     "base_uri": "https://localhost:8080/"
    },
    "id": "fCA9CzZbao0B",
    "outputId": "250f2464-bcc1-4984-a532-8fe94bba54e6"
   },
   "outputs": [
    {
     "name": "stdout",
     "output_type": "stream",
     "text": [
      "Saving model to: models\\01_pytorch_workflow_model_1.pth\n"
     ]
    }
   ],
   "source": [
    "from pathlib import Path\n",
    "\n",
    "# 1. Create models directory\n",
    "MODEL_PATH = Path(\"models\")\n",
    "MODEL_PATH.mkdir(parents=True, exist_ok=True)\n",
    "\n",
    "# 2. Create model save path\n",
    "MODEL_NAME = \"01_pytorch_workflow_model_1.pth\"\n",
    "MODEL_SAVE_PATH = MODEL_PATH / MODEL_NAME\n",
    "\n",
    "# 3. Save the model state dict\n",
    "print(f\"Saving model to: {MODEL_SAVE_PATH}\")\n",
    "torch.save(obj=model_1.state_dict(), # only saving the state_dict() only saves the models learned parameters\n",
    "           f=MODEL_SAVE_PATH)"
   ]
  },
  {
   "cell_type": "markdown",
   "metadata": {
    "id": "FN0WYRfhbTOe"
   },
   "source": [
    "And just to make sure everything worked well, let's load it back in.\n",
    "\n",
    "We'll:\n",
    "\n",
    "Create a new instance of the LinearRegressionModelV2() class\n",
    "\n",
    "Load in the model state dict using torch.nn.Module.load_state_dict()\n",
    "\n",
    "Send the new instance of the model to the target device (to ensure our code is device-agnostic)"
   ]
  },
  {
   "cell_type": "code",
   "execution_count": 43,
   "metadata": {
    "colab": {
     "base_uri": "https://localhost:8080/"
    },
    "id": "zQ5z09ZSbDrd",
    "outputId": "e712b865-5e1a-4769-99b6-f6c0280544ef"
   },
   "outputs": [
    {
     "data": {
      "text/plain": [
       "LinearRegressionModelV2(\n",
       "  (linear_layer): Linear(in_features=1, out_features=1, bias=True)\n",
       ")"
      ]
     },
     "execution_count": 43,
     "metadata": {},
     "output_type": "execute_result"
    }
   ],
   "source": [
    "loaded_model_1 = LinearRegressionModelV2()\n",
    "\n",
    "loaded_model_1.load_state_dict(torch.load(MODEL_SAVE_PATH))\n",
    "\n",
    "loaded_model_1.to(device)\n",
    "\n",
    "loaded_model_1"
   ]
  },
  {
   "cell_type": "code",
   "execution_count": 44,
   "metadata": {
    "colab": {
     "base_uri": "https://localhost:8080/"
    },
    "id": "pQXmD7Tvb6sK",
    "outputId": "13968819-3dc7-4d20-c397-2f7cb520e683"
   },
   "outputs": [
    {
     "name": "stdout",
     "output_type": "stream",
     "text": [
      "Parameter containing:\n",
      "tensor([[0.6968]], device='cuda:0', requires_grad=True)\n",
      "Parameter containing:\n",
      "tensor([0.3025], device='cuda:0', requires_grad=True)\n"
     ]
    }
   ],
   "source": [
    "for i in loaded_model_1.parameters():\n",
    "  print(i)"
   ]
  },
  {
   "cell_type": "code",
   "execution_count": 45,
   "metadata": {
    "colab": {
     "base_uri": "https://localhost:8080/"
    },
    "id": "pEM15e4ycBYe",
    "outputId": "66b7a40d-5648-44b1-bd65-d9b3c8ce6439"
   },
   "outputs": [
    {
     "data": {
      "text/plain": [
       "tensor([[True],\n",
       "        [True],\n",
       "        [True],\n",
       "        [True],\n",
       "        [True],\n",
       "        [True],\n",
       "        [True],\n",
       "        [True],\n",
       "        [True],\n",
       "        [True]], device='cuda:0')"
      ]
     },
     "execution_count": 45,
     "metadata": {},
     "output_type": "execute_result"
    }
   ],
   "source": [
    "loaded_model_1.eval()\n",
    "\n",
    "with torch.inference_mode():\n",
    "  loaded_model_1_pred = loaded_model_1(X_test)\n",
    "\n",
    "y_preds == loaded_model_1_pred"
   ]
  },
  {
   "cell_type": "markdown",
   "metadata": {
    "id": "SeHRkFj25Yvx"
   },
   "source": [
    "# Exercise"
   ]
  },
  {
   "cell_type": "code",
   "execution_count": 135,
   "metadata": {
    "id": "zfYvwYkS6VW7"
   },
   "outputs": [],
   "source": [
    "import numpy as np"
   ]
  },
  {
   "cell_type": "code",
   "execution_count": 136,
   "metadata": {
    "id": "Gba8bdVKcldh"
   },
   "outputs": [],
   "source": [
    "def stright_line(x):\n",
    "  return (0.3 * x) + 0.9"
   ]
  },
  {
   "cell_type": "code",
   "execution_count": 137,
   "metadata": {},
   "outputs": [
    {
     "data": {
      "text/plain": [
       "(tensor([[0],\n",
       "         [1],\n",
       "         [2],\n",
       "         [3],\n",
       "         [4],\n",
       "         [5],\n",
       "         [6],\n",
       "         [7],\n",
       "         [8],\n",
       "         [9]]),\n",
       " tensor([[0.9000],\n",
       "         [1.2000],\n",
       "         [1.5000],\n",
       "         [1.8000],\n",
       "         [2.1000],\n",
       "         [2.4000],\n",
       "         [2.7000],\n",
       "         [3.0000],\n",
       "         [3.3000],\n",
       "         [3.6000]]))"
      ]
     },
     "execution_count": 137,
     "metadata": {},
     "output_type": "execute_result"
    }
   ],
   "source": [
    "# Create weight and bias\n",
    "weight = 0.7\n",
    "bias = 0.3\n",
    "\n",
    "# Create range values\n",
    "start = 0\n",
    "end = 100\n",
    "step = 1\n",
    "\n",
    "# Create X and y (features and labels)\n",
    "X = torch.arange(start, end, step).unsqueeze(dim=1) # without unsqueeze, errors will happen later on (shapes within linear layers)\n",
    "y = stright_line(X)\n",
    "X[:10], y[:10]"
   ]
  },
  {
   "cell_type": "code",
   "execution_count": 158,
   "metadata": {
    "colab": {
     "base_uri": "https://localhost:8080/"
    },
    "id": "0lIdsKa356QA",
    "outputId": "5c824e17-a5d6-45f8-f5b3-86b887cb7629"
   },
   "outputs": [
    {
     "data": {
      "text/plain": [
       "(80, 80, 20, 20)"
      ]
     },
     "execution_count": 158,
     "metadata": {},
     "output_type": "execute_result"
    }
   ],
   "source": [
    "# Split data\n",
    "train_split = int(0.8 * len(X))\n",
    "X.type(torch.float)\n",
    "y.type(torch.float)\n",
    "X_train, y_train = X[:train_split], y[:train_split]\n",
    "X_test, y_test = X[train_split:], y[train_split:]\n",
    "\n",
    "len(X_train), len(y_train), len(X_test), len(y_test)"
   ]
  },
  {
   "cell_type": "code",
   "execution_count": 159,
   "metadata": {
    "id": "Ogz6FdpJ9arJ"
   },
   "outputs": [
    {
     "data": {
      "image/png": "[encoded data removed]",
      "text/plain": [
       "<Figure size 1000x700 with 1 Axes>"
      ]
     },
     "metadata": {},
     "output_type": "display_data"
    }
   ],
   "source": [
    "plot_prediction(X_train, y_train, X_test, y_test)"
   ]
  },
  {
   "cell_type": "code",
   "execution_count": 160,
   "metadata": {},
   "outputs": [
    {
     "data": {
      "text/plain": [
       "(LinearRegressionModelV3(\n",
       "   (linear_layer): Linear(in_features=1, out_features=1, bias=True)\n",
       " ),\n",
       " OrderedDict([('linear_layer.weight', tensor([[-0.5167]])),\n",
       "              ('linear_layer.bias', tensor([0.1164]))]))"
      ]
     },
     "execution_count": 160,
     "metadata": {},
     "output_type": "execute_result"
    }
   ],
   "source": [
    "class LinearRegressionModelV3(nn.Module):\n",
    "\n",
    "    def __init__(self):\n",
    "        super().__init__()\n",
    "        self.linear_layer = nn.Linear(in_features=1, out_features=1)\n",
    "\n",
    "    def forward(self, x):\n",
    "        return self.linear_layer(x)\n",
    "\n",
    "\n",
    "model_2 = LinearRegressionModelV3()\n",
    "model_2, model_2.state_dict()"
   ]
  },
  {
   "cell_type": "code",
   "execution_count": 161,
   "metadata": {},
   "outputs": [
    {
     "data": {
      "text/plain": [
       "device(type='cpu')"
      ]
     },
     "execution_count": 161,
     "metadata": {},
     "output_type": "execute_result"
    }
   ],
   "source": [
    "next(model_2.parameters()).device"
   ]
  },
  {
   "cell_type": "code",
   "execution_count": 162,
   "metadata": {},
   "outputs": [],
   "source": [
    "device = 'cuda' if torch.cuda.is_available() else 'cpu'"
   ]
  },
  {
   "cell_type": "code",
   "execution_count": 163,
   "metadata": {},
   "outputs": [
    {
     "data": {
      "text/plain": [
       "LinearRegressionModelV3(\n",
       "  (linear_layer): Linear(in_features=1, out_features=1, bias=True)\n",
       ")"
      ]
     },
     "execution_count": 163,
     "metadata": {},
     "output_type": "execute_result"
    }
   ],
   "source": [
    "model_2.to(device)"
   ]
  },
  {
   "cell_type": "code",
   "execution_count": 164,
   "metadata": {},
   "outputs": [
    {
     "data": {
      "text/plain": [
       "device(type='cuda', index=0)"
      ]
     },
     "execution_count": 164,
     "metadata": {},
     "output_type": "execute_result"
    }
   ],
   "source": [
    "next(model_2.parameters()).device"
   ]
  },
  {
   "cell_type": "code",
   "execution_count": 178,
   "metadata": {},
   "outputs": [],
   "source": [
    "loss_fn = nn.L1Loss()\n",
    "\n",
    "optimizer = torch.optim.SGD(params=model_2.parameters(), \n",
    "                            lr=0.0001)"
   ]
  },
  {
   "cell_type": "code",
   "execution_count": 179,
   "metadata": {},
   "outputs": [
    {
     "name": "stdout",
     "output_type": "stream",
     "text": [
      "Epoch: 0 | Train loss: 0.6017593741416931 | Test loss: 0.6980018615722656\n",
      "Epoch: 20 | Train loss: 0.10257747024297714 | Test loss: 0.15500564873218536\n",
      "Epoch: 40 | Train loss: 0.10221781581640244 | Test loss: 0.14152804017066956\n",
      "Epoch: 60 | Train loss: 0.10185867547988892 | Test loss: 0.14013318717479706\n",
      "Epoch: 80 | Train loss: 0.1014997735619545 | Test loss: 0.13873815536499023\n",
      "Epoch: 100 | Train loss: 0.10114085674285889 | Test loss: 0.13734321296215057\n",
      "Epoch: 120 | Train loss: 0.10078199207782745 | Test loss: 0.13594818115234375\n",
      "Epoch: 140 | Train loss: 0.10057299584150314 | Test loss: 0.1477590650320053\n",
      "Epoch: 160 | Train loss: 0.10008006542921066 | Test loss: 0.1463642120361328\n",
      "Epoch: 180 | Train loss: 0.09973512589931488 | Test loss: 0.14496926963329315\n",
      "Epoch: 200 | Train loss: 0.09939023107290268 | Test loss: 0.14357434213161469\n",
      "Epoch: 220 | Train loss: 0.09917741268873215 | Test loss: 0.13009671866893768\n",
      "Epoch: 240 | Train loss: 0.09880506992340088 | Test loss: 0.12870179116725922\n",
      "Epoch: 260 | Train loss: 0.09835260361433029 | Test loss: 0.14006434381008148\n",
      "Epoch: 280 | Train loss: 0.09800774604082108 | Test loss: 0.13866940140724182\n",
      "Epoch: 300 | Train loss: 0.09766288846731186 | Test loss: 0.13727465271949768\n",
      "Epoch: 320 | Train loss: 0.09732569754123688 | Test loss: 0.1486371010541916\n",
      "Epoch: 340 | Train loss: 0.09699557721614838 | Test loss: 0.14724226295948029\n",
      "Epoch: 360 | Train loss: 0.09663685411214828 | Test loss: 0.13376455008983612\n",
      "Epoch: 380 | Train loss: 0.09627797454595566 | Test loss: 0.13236962258815765\n",
      "Epoch: 400 | Train loss: 0.09591910243034363 | Test loss: 0.130974680185318\n",
      "Epoch: 420 | Train loss: 0.09587892144918442 | Test loss: 0.14859715104103088\n",
      "Epoch: 440 | Train loss: 0.0953555628657341 | Test loss: 0.12504816055297852\n",
      "Epoch: 460 | Train loss: 0.0949832946062088 | Test loss: 0.12365331500768661\n",
      "Epoch: 480 | Train loss: 0.09472360461950302 | Test loss: 0.12650804221630096\n",
      "Epoch: 500 | Train loss: 0.09476163238286972 | Test loss: 0.11122941970825195\n",
      "Epoch: 520 | Train loss: 0.09418217092752457 | Test loss: 0.11743908375501633\n",
      "Epoch: 540 | Train loss: 0.09422013908624649 | Test loss: 0.11290483921766281\n",
      "Epoch: 560 | Train loss: 0.09343179315328598 | Test loss: 0.11507635563611984\n",
      "Epoch: 580 | Train loss: 0.0932520404458046 | Test loss: 0.11858940124511719\n",
      "Epoch: 600 | Train loss: 0.09304255247116089 | Test loss: 0.10889940708875656\n",
      "Epoch: 620 | Train loss: 0.09284760057926178 | Test loss: 0.11107092350721359\n",
      "Epoch: 640 | Train loss: 0.09298812597990036 | Test loss: 0.10630732029676437\n",
      "Epoch: 660 | Train loss: 0.092424176633358 | Test loss: 0.10267257690429688\n",
      "Epoch: 680 | Train loss: 0.09201909601688385 | Test loss: 0.101275734603405\n",
      "Epoch: 700 | Train loss: 0.09267441928386688 | Test loss: 0.10211658477783203\n",
      "Epoch: 720 | Train loss: 0.09136763960123062 | Test loss: 0.10071974247694016\n",
      "Epoch: 740 | Train loss: 0.09203281998634338 | Test loss: 0.10156059265136719\n",
      "Epoch: 760 | Train loss: 0.09071619063615799 | Test loss: 0.10016375035047531\n",
      "Epoch: 780 | Train loss: 0.09208671003580093 | Test loss: 0.0967196449637413\n",
      "Epoch: 800 | Train loss: 0.09430988878011703 | Test loss: 0.08477773517370224\n",
      "Epoch: 820 | Train loss: 0.093856580555439 | Test loss: 0.0833476111292839\n",
      "Epoch: 840 | Train loss: 0.09343499690294266 | Test loss: 0.08213891834020615\n",
      "Epoch: 860 | Train loss: 0.09168574959039688 | Test loss: 0.08115196228027344\n",
      "Epoch: 880 | Train loss: 0.09132813662290573 | Test loss: 0.08038683235645294\n",
      "Epoch: 900 | Train loss: 0.09285888820886612 | Test loss: 0.0834278091788292\n",
      "Epoch: 920 | Train loss: 0.09250059723854065 | Test loss: 0.0826626792550087\n",
      "Epoch: 940 | Train loss: 0.0921422466635704 | Test loss: 0.08189735561609268\n",
      "Epoch: 960 | Train loss: 0.09178391844034195 | Test loss: 0.08113222569227219\n",
      "Epoch: 980 | Train loss: 0.09142547100782394 | Test loss: 0.08036718517541885\n"
     ]
    }
   ],
   "source": [
    "epochs = 1000\n",
    "\n",
    "X_train = X_train.type(torch.float).to(device)\n",
    "X_test = X_test.type(torch.float).to(device)\n",
    "y_train = y_train.type(torch.float).to(device)\n",
    "y_test = y_test.type(torch.float).to(device)\n",
    "\n",
    "for epoch in range(epochs):\n",
    "\n",
    "    model_2.train()\n",
    "\n",
    "    y_pred = model_2(X_train)\n",
    "\n",
    "    train_loss = loss_fn(y_pred, y_train)\n",
    "\n",
    "    optimizer.zero_grad()\n",
    "\n",
    "    train_loss.backward()\n",
    "\n",
    "    optimizer.step()\n",
    "\n",
    "    model_2.eval()\n",
    "\n",
    "\n",
    "    with torch.inference_mode():\n",
    "        test_pred = model_2(X_test)\n",
    "\n",
    "        test_loss = loss_fn(test_pred, y_test)\n",
    "\n",
    "    if epoch % 20 == 0:\n",
    "        print(f\"Epoch: {epoch} | Train loss: {train_loss} | Test loss: {test_loss}\")"
   ]
  },
  {
   "cell_type": "code",
   "execution_count": 180,
   "metadata": {},
   "outputs": [
    {
     "data": {
      "text/plain": [
       "OrderedDict([('linear_layer.weight', tensor([[0.3044]], device='cuda:0')),\n",
       "             ('linear_layer.bias', tensor([0.6951], device='cuda:0'))])"
      ]
     },
     "execution_count": 180,
     "metadata": {},
     "output_type": "execute_result"
    }
   ],
   "source": [
    "model_2.state_dict()"
   ]
  },
  {
   "cell_type": "code",
   "execution_count": 181,
   "metadata": {},
   "outputs": [
    {
     "name": "stdout",
     "output_type": "stream",
     "text": [
      "0.7 0.3\n"
     ]
    }
   ],
   "source": [
    "print(weight, bias)"
   ]
  },
  {
   "cell_type": "code",
   "execution_count": 190,
   "metadata": {},
   "outputs": [],
   "source": [
    "model_2.eval()\n",
    "\n",
    "with torch.inference_mode():\n",
    "    y_test_pred = model_2(X_test)\n",
    "\n",
    "y_test_pred = y_test_pred.to('cpu')"
   ]
  },
  {
   "cell_type": "code",
   "execution_count": 191,
   "metadata": {},
   "outputs": [
    {
     "data": {
      "text/plain": [
       "device(type='cpu')"
      ]
     },
     "execution_count": 191,
     "metadata": {},
     "output_type": "execute_result"
    }
   ],
   "source": [
    "y_test_pred.device"
   ]
  },
  {
   "cell_type": "code",
   "execution_count": 193,
   "metadata": {},
   "outputs": [],
   "source": [
    "X_train, y_train, X_test, y_test = X_train.to('cpu'), y_train.to('cpu'), X_test.to('cpu'), y_test.to('cpu')"
   ]
  },
  {
   "cell_type": "code",
   "execution_count": 194,
   "metadata": {},
   "outputs": [
    {
     "data": {
      "image/png": "[encoded data removed]",
      "text/plain": [
       "<Figure size 1000x700 with 1 Axes>"
      ]
     },
     "metadata": {},
     "output_type": "display_data"
    }
   ],
   "source": [
    "plot_prediction(X_train, y_train, X_test, y_test, y_test_pred)"
   ]
  },
  {
   "cell_type": "code",
   "execution_count": 195,
   "metadata": {},
   "outputs": [
    {
     "name": "stdout",
     "output_type": "stream",
     "text": [
      "saved path : models\\model_2.pth\n"
     ]
    }
   ],
   "source": [
    "from pathlib import Path\n",
    "\n",
    "MODEL_PATH = Path(\"models\")\n",
    "MODEL_PATH.mkdir(parents=True, exist_ok=True)\n",
    "\n",
    "MODEL_NAME = \"model_2.pth\"\n",
    "MODEL_SAVE_PATH = MODEL_PATH / MODEL_NAME\n",
    "\n",
    "print(f\"saved path : {MODEL_SAVE_PATH}\")\n",
    "\n",
    "torch.save(obj=model_2.state_dict(), f=MODEL_SAVE_PATH)"
   ]
  },
  {
   "cell_type": "code",
   "execution_count": 198,
   "metadata": {},
   "outputs": [
    {
     "data": {
      "text/plain": [
       "LinearRegressionModelV3(\n",
       "  (linear_layer): Linear(in_features=1, out_features=1, bias=True)\n",
       ")"
      ]
     },
     "execution_count": 198,
     "metadata": {},
     "output_type": "execute_result"
    }
   ],
   "source": [
    "loaded_model_2 = LinearRegressionModelV3()\n",
    "\n",
    "loaded_model_2.load_state_dict(torch.load(MODEL_SAVE_PATH))\n",
    "\n",
    "loaded_model_2.to(device)\n",
    "loaded_model_2"
   ]
  },
  {
   "cell_type": "code",
   "execution_count": 203,
   "metadata": {},
   "outputs": [],
   "source": [
    "loaded_model_2.eval()\n",
    "\n",
    "with torch.inference_mode():\n",
    "     loaded_model_pred = loaded_model_2(X_test.to(device))"
   ]
  },
  {
   "cell_type": "code",
   "execution_count": 207,
   "metadata": {},
   "outputs": [
    {
     "data": {
      "text/plain": [
       "tensor([[True],\n",
       "        [True],\n",
       "        [True],\n",
       "        [True],\n",
       "        [True],\n",
       "        [True],\n",
       "        [True],\n",
       "        [True],\n",
       "        [True],\n",
       "        [True],\n",
       "        [True],\n",
       "        [True],\n",
       "        [True],\n",
       "        [True],\n",
       "        [True],\n",
       "        [True],\n",
       "        [True],\n",
       "        [True],\n",
       "        [True],\n",
       "        [True]])"
      ]
     },
     "execution_count": 207,
     "metadata": {},
     "output_type": "execute_result"
    }
   ],
   "source": [
    "loaded_model_pred.to('cpu') == y_test_pred"
   ]
  },
  {
   "cell_type": "code",
   "execution_count": null,
   "metadata": {},
   "outputs": [],
   "source": []
  },
  {
   "cell_type": "code",
   "execution_count": null,
   "metadata": {},
   "outputs": [],
   "source": []
  }
 ],
 "metadata": {
  "accelerator": "GPU",
  "colab": {
   "gpuType": "T4",
   "provenance": []
  },
  "kernelspec": {
   "display_name": "Python 3 (ipykernel)",
   "language": "python",
   "name": "python3"
  },
  "language_info": {
   "codemirror_mode": {
    "name": "ipython",
    "version": 3
   },
   "file_extension": ".py",
   "mimetype": "text/x-python",
   "name": "python",
   "nbconvert_exporter": "python",
   "pygments_lexer": "ipython3",
   "version": "3.12.3"
  }
 },
 "nbformat": 4,
 "nbformat_minor": 4
}
