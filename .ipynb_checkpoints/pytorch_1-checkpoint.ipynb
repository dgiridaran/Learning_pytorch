{
 "cells": [
  {
   "cell_type": "code",
   "execution_count": 1,
   "id": "ddbf7388-66ae-4625-b3f5-af807c648f14",
   "metadata": {},
   "outputs": [],
   "source": [
    "import torch"
   ]
  },
  {
   "cell_type": "code",
   "execution_count": 7,
   "id": "ed73915f-6399-467b-8165-167bc88a4666",
   "metadata": {},
   "outputs": [
    {
     "data": {
      "text/plain": [
       "tensor(4.)"
      ]
     },
     "execution_count": 7,
     "metadata": {},
     "output_type": "execute_result"
    }
   ],
   "source": [
    "t1 = torch.tensor(4.)\n",
    "t1"
   ]
  },
  {
   "cell_type": "code",
   "execution_count": 8,
   "id": "32430858-48fb-4f35-b060-31869146c0f2",
   "metadata": {},
   "outputs": [
    {
     "data": {
      "text/plain": [
       "torch.float32"
      ]
     },
     "execution_count": 8,
     "metadata": {},
     "output_type": "execute_result"
    }
   ],
   "source": [
    "t1.dtype"
   ]
  },
  {
   "cell_type": "code",
   "execution_count": 9,
   "id": "47adfcd3-1199-41a7-840c-d8d02b1d97e5",
   "metadata": {},
   "outputs": [
    {
     "data": {
      "text/plain": [
       "tensor([1., 2., 3., 4.])"
      ]
     },
     "execution_count": 9,
     "metadata": {},
     "output_type": "execute_result"
    }
   ],
   "source": [
    "# vector\n",
    "t2 = torch.tensor([1.,2,3,4.])\n",
    "t2"
   ]
  },
  {
   "cell_type": "code",
   "execution_count": 10,
   "id": "fa0bbd87-1e77-4b4f-85c7-b64c26e0cc2c",
   "metadata": {},
   "outputs": [
    {
     "data": {
      "text/plain": [
       "torch.float32"
      ]
     },
     "execution_count": 10,
     "metadata": {},
     "output_type": "execute_result"
    }
   ],
   "source": [
    "t2.dtype"
   ]
  },
  {
   "cell_type": "code",
   "execution_count": 11,
   "id": "7cf1fe28-2bcd-4ab2-aaee-f4e51f22ddf0",
   "metadata": {},
   "outputs": [
    {
     "data": {
      "text/plain": [
       "tensor([[ 5.,  6.],\n",
       "        [ 7.,  8.],\n",
       "        [ 9., 10.]])"
      ]
     },
     "execution_count": 11,
     "metadata": {},
     "output_type": "execute_result"
    }
   ],
   "source": [
    "# Matrix\n",
    "t3 = torch.tensor([[5.,6],\n",
    "                  [7,8],\n",
    "                  [9,10]])\n",
    "t3"
   ]
  },
  {
   "cell_type": "code",
   "execution_count": 12,
   "id": "04e706be-a72d-4c96-8f9e-9b4ff5714d8c",
   "metadata": {},
   "outputs": [
    {
     "data": {
      "text/plain": [
       "torch.Size([])"
      ]
     },
     "execution_count": 12,
     "metadata": {},
     "output_type": "execute_result"
    }
   ],
   "source": [
    "t1.shape"
   ]
  },
  {
   "cell_type": "code",
   "execution_count": 13,
   "id": "10797e6e-2687-48dd-b9ae-4c759e3d57f6",
   "metadata": {},
   "outputs": [
    {
     "data": {
      "text/plain": [
       "torch.Size([4])"
      ]
     },
     "execution_count": 13,
     "metadata": {},
     "output_type": "execute_result"
    }
   ],
   "source": [
    "t2.shape"
   ]
  },
  {
   "cell_type": "code",
   "execution_count": 14,
   "id": "45d33940-f721-4d48-8ab3-325d8f2b6cf7",
   "metadata": {},
   "outputs": [
    {
     "data": {
      "text/plain": [
       "torch.Size([3, 2])"
      ]
     },
     "execution_count": 14,
     "metadata": {},
     "output_type": "execute_result"
    }
   ],
   "source": [
    "t3.shape"
   ]
  },
  {
   "cell_type": "markdown",
   "id": "dae525ce-61e7-405f-8ceb-088a6b54a3e6",
   "metadata": {},
   "source": [
    "## Tensor operations and gradients"
   ]
  },
  {
   "cell_type": "code",
   "execution_count": 16,
   "id": "73e1a1b2-bbd6-4ef5-9306-3ad02207eb44",
   "metadata": {},
   "outputs": [
    {
     "data": {
      "text/plain": [
       "(tensor(3.), tensor(4., requires_grad=True), tensor(5., requires_grad=True))"
      ]
     },
     "execution_count": 16,
     "metadata": {},
     "output_type": "execute_result"
    }
   ],
   "source": [
    "x = torch.tensor(3.)\n",
    "w = torch.tensor(4., requires_grad=True)\n",
    "b = torch.tensor(5., requires_grad=True)\n",
    "x,w,b"
   ]
  },
  {
   "cell_type": "code",
   "execution_count": 17,
   "id": "2275b47a-89ae-46a6-85b2-147f63256110",
   "metadata": {},
   "outputs": [],
   "source": [
    "y = w * x + b"
   ]
  },
  {
   "cell_type": "code",
   "execution_count": 18,
   "id": "74952a6f-5df8-4bd8-9b3a-507ef52098d1",
   "metadata": {},
   "outputs": [
    {
     "data": {
      "text/plain": [
       "tensor(17., grad_fn=<AddBackward0>)"
      ]
     },
     "execution_count": 18,
     "metadata": {},
     "output_type": "execute_result"
    }
   ],
   "source": [
    "y "
   ]
  },
  {
   "cell_type": "code",
   "execution_count": 19,
   "id": "8a8dda06-2d3a-476c-9754-3f2a8996025a",
   "metadata": {},
   "outputs": [],
   "source": [
    "# compute derivative\n",
    "y.backward()"
   ]
  },
  {
   "cell_type": "code",
   "execution_count": 20,
   "id": "757972a4-5c87-4bc3-8f2a-36a54207891a",
   "metadata": {},
   "outputs": [
    {
     "name": "stdout",
     "output_type": "stream",
     "text": [
      "dy/dx None\n",
      "dy/dw tensor(3.)\n",
      "dy/db tensor(1.)\n"
     ]
    }
   ],
   "source": [
    "# Display gradient\n",
    "# these are the slops, w.r.p the values\n",
    "print(\"dy/dx\", x.grad)\n",
    "print(\"dy/dw\", w.grad)\n",
    "print(\"dy/db\", b.grad)"
   ]
  },
  {
   "cell_type": "markdown",
   "id": "833c03a5-aa31-4577-994d-890efdc3d7cb",
   "metadata": {},
   "source": [
    "## Interoperability with Numpy"
   ]
  },
  {
   "cell_type": "code",
   "execution_count": 21,
   "id": "c98d6d0b-bde1-443e-9c8c-0ec2ead6a8d3",
   "metadata": {},
   "outputs": [],
   "source": [
    "import numpy as np"
   ]
  },
  {
   "cell_type": "code",
   "execution_count": 22,
   "id": "ae44d15b-eee6-434c-ad32-87e47aa750bb",
   "metadata": {},
   "outputs": [
    {
     "data": {
      "text/plain": [
       "array([[1., 2.],\n",
       "       [3., 4.]])"
      ]
     },
     "execution_count": 22,
     "metadata": {},
     "output_type": "execute_result"
    }
   ],
   "source": [
    "x = np.array([[1,2], [3,4.]])\n",
    "x"
   ]
  },
  {
   "cell_type": "code",
   "execution_count": 23,
   "id": "3848e5d5-e807-41a4-b6a1-6c682c2fc837",
   "metadata": {},
   "outputs": [
    {
     "data": {
      "text/plain": [
       "tensor([[1., 2.],\n",
       "        [3., 4.]], dtype=torch.float64)"
      ]
     },
     "execution_count": 23,
     "metadata": {},
     "output_type": "execute_result"
    }
   ],
   "source": [
    "# convert from numpy to torch tensor\n",
    "y = torch.from_numpy(x)\n",
    "y"
   ]
  },
  {
   "cell_type": "code",
   "execution_count": 24,
   "id": "f947a178-5c4e-47b1-a502-87cc4da14a05",
   "metadata": {},
   "outputs": [
    {
     "data": {
      "text/plain": [
       "(dtype('float64'), torch.float64)"
      ]
     },
     "execution_count": 24,
     "metadata": {},
     "output_type": "execute_result"
    }
   ],
   "source": [
    "x.dtype, y.dtype"
   ]
  },
  {
   "cell_type": "code",
   "execution_count": 25,
   "id": "8c0d02fc-ed9e-4d71-8e5f-e13913252928",
   "metadata": {},
   "outputs": [
    {
     "data": {
      "text/plain": [
       "array([[1., 2.],\n",
       "       [3., 4.]])"
      ]
     },
     "execution_count": 25,
     "metadata": {},
     "output_type": "execute_result"
    }
   ],
   "source": [
    "# converting a torch tensor to a numpy array\n",
    "z = y.numpy()\n",
    "z"
   ]
  },
  {
   "cell_type": "markdown",
   "id": "afa0c985-8045-4567-b07b-aa0c1f82e62d",
   "metadata": {},
   "source": [
    "## 1. Linear Regression with pytorch"
   ]
  },
  {
   "cell_type": "markdown",
   "id": "c73a9215-764e-4aa7-ac82-49fe64028a7a",
   "metadata": {},
   "source": [
    "### Training data"
   ]
  },
  {
   "cell_type": "code",
   "execution_count": 26,
   "id": "77726031-83e4-49ce-9fd5-fcce1622f179",
   "metadata": {},
   "outputs": [],
   "source": [
    "# Input (temp, rainfall, humidity)\n",
    "inputs = np.array([[73, 67, 43],\n",
    "                  [91, 88, 64],\n",
    "                  [87, 134, 58],\n",
    "                  [102, 43, 37],\n",
    "                  [69, 96, 70]], dtype='float32')\n"
   ]
  },
  {
   "cell_type": "code",
   "execution_count": 28,
   "id": "52de187a-a129-4bc7-ba85-3d8398f8b02d",
   "metadata": {},
   "outputs": [],
   "source": [
    "# Targets (apples, oranges)\n",
    "target = np.array([[56, 70],\n",
    "                  [81, 101],\n",
    "                  [119, 133],\n",
    "                  [22, 37],\n",
    "                  [103, 119]], dtype='float32')"
   ]
  },
  {
   "cell_type": "code",
   "execution_count": 30,
   "id": "ae24be7a-70f8-4517-9ca6-1619a0aa00ba",
   "metadata": {},
   "outputs": [
    {
     "name": "stdout",
     "output_type": "stream",
     "text": [
      "tensor([[ 73.,  67.,  43.],\n",
      "        [ 91.,  88.,  64.],\n",
      "        [ 87., 134.,  58.],\n",
      "        [102.,  43.,  37.],\n",
      "        [ 69.,  96.,  70.]])\n",
      "tensor([[ 56.,  70.],\n",
      "        [ 81., 101.],\n",
      "        [119., 133.],\n",
      "        [ 22.,  37.],\n",
      "        [103., 119.]])\n"
     ]
    }
   ],
   "source": [
    "# convert inputs and targets to tensors\n",
    "inputs = torch.from_numpy(inputs)\n",
    "targets = torch.from_numpy(target)\n",
    "print(inputs)\n",
    "print(targets)"
   ]
  },
  {
   "cell_type": "code",
   "execution_count": 33,
   "id": "85faa9b8-4df2-4f98-bb80-32ccaf8030b6",
   "metadata": {},
   "outputs": [
    {
     "name": "stdout",
     "output_type": "stream",
     "text": [
      "tensor([[ 1.0686,  0.9652, -1.1211],\n",
      "        [ 0.7520, -1.5875,  0.2038]], requires_grad=True)\n",
      "tensor([ 0.2564, -0.8673], requires_grad=True)\n"
     ]
    }
   ],
   "source": [
    "# Weights and biases\n",
    "w = torch.randn(2,3, requires_grad=True)\n",
    "b = torch.randn(2, requires_grad=True)\n",
    "print(w)\n",
    "print(b)"
   ]
  },
  {
   "cell_type": "code",
   "execution_count": null,
   "id": "2d53a531-c97f-47ef-933c-dca0ec94c522",
   "metadata": {},
   "outputs": [],
   "source": []
  },
  {
   "cell_type": "markdown",
   "id": "78c3e446-51cc-45ce-87e5-eac5a89d8aa5",
   "metadata": {},
   "source": [
    " X * W^T + b"
   ]
  },
  {
   "cell_type": "code",
   "execution_count": null,
   "id": "6da12e88-1191-4bda-8b46-792698bfd93f",
   "metadata": {},
   "outputs": [],
   "source": []
  },
  {
   "cell_type": "code",
   "execution_count": 34,
   "id": "6d1ebda4-afb3-45e5-bfe5-a5c6a41e0b58",
   "metadata": {},
   "outputs": [],
   "source": [
    "def model(x):\n",
    "    return x @ w.t() + b"
   ]
  },
  {
   "cell_type": "markdown",
   "id": "2d8c9378-f480-4a05-940e-6ca397bb3da1",
   "metadata": {},
   "source": [
    "@ represents matrix multiplication"
   ]
  },
  {
   "cell_type": "markdown",
   "id": "76ba7253-c95e-40eb-91f4-ff7d1a0f4565",
   "metadata": {},
   "source": [
    "**Generate prediction**"
   ]
  },
  {
   "cell_type": "code",
   "execution_count": 35,
   "id": "95e9745c-aa9b-458e-881c-fa56a91df64e",
   "metadata": {},
   "outputs": [
    {
     "name": "stdout",
     "output_type": "stream",
     "text": [
      "tensor([[  94.7209,  -43.5675],\n",
      "        [ 110.6806,  -59.0885],\n",
      "        [ 157.5298, -136.3450],\n",
      "        [ 109.2723,   15.1190],\n",
      "        [  88.1667,  -87.1106]], grad_fn=<AddBackward0>)\n"
     ]
    }
   ],
   "source": [
    "preds = model(inputs)\n",
    "print(preds)"
   ]
  },
  {
   "cell_type": "markdown",
   "id": "cceb683f-891c-4c7c-bac0-92948229f21b",
   "metadata": {},
   "source": [
    "our predictions are base becaues our weight (w)'s are just random."
   ]
  },
  {
   "cell_type": "code",
   "execution_count": 36,
   "id": "b63b754c-b52d-4dfd-8bb2-bfa15b7eabc7",
   "metadata": {},
   "outputs": [
    {
     "name": "stdout",
     "output_type": "stream",
     "text": [
      "tensor([[ 56.,  70.],\n",
      "        [ 81., 101.],\n",
      "        [119., 133.],\n",
      "        [ 22.,  37.],\n",
      "        [103., 119.]])\n"
     ]
    }
   ],
   "source": [
    "print(targets)"
   ]
  },
  {
   "cell_type": "markdown",
   "id": "a81b697e-fdf0-4917-a8b3-3986bb3152c9",
   "metadata": {},
   "source": [
    "# Loss function"
   ]
  },
  {
   "cell_type": "code",
   "execution_count": 37,
   "id": "c46f7826-2910-434d-983c-f569c9773c27",
   "metadata": {},
   "outputs": [
    {
     "data": {
      "text/plain": [
       "tensor(16573.4258, grad_fn=<DivBackward0>)"
      ]
     },
     "execution_count": 37,
     "metadata": {},
     "output_type": "execute_result"
    }
   ],
   "source": [
    "diff = (preds - targets)\n",
    "torch.sum(diff * diff) / diff.numel()"
   ]
  },
  {
   "cell_type": "code",
   "execution_count": 38,
   "id": "6dc537d6-ea54-4505-999c-4cb34dff155f",
   "metadata": {},
   "outputs": [],
   "source": [
    "def mse(t1, t2):\n",
    "    diff = t1 - t2\n",
    "    return torch.sum(diff*diff) / diff.numel()"
   ]
  },
  {
   "cell_type": "code",
   "execution_count": 39,
   "id": "faddfb16-e08a-44c1-af63-932912b4714a",
   "metadata": {},
   "outputs": [
    {
     "name": "stdout",
     "output_type": "stream",
     "text": [
      "tensor(16573.4258, grad_fn=<DivBackward0>)\n"
     ]
    }
   ],
   "source": [
    "loss = mse(preds, targets)\n",
    "print(loss)"
   ]
  },
  {
   "cell_type": "markdown",
   "id": "7e760c3b-e529-4c4b-81c6-c7c2d2d865ed",
   "metadata": {},
   "source": [
    "## Compute gradients"
   ]
  },
  {
   "cell_type": "code",
   "execution_count": 40,
   "id": "d9565ea8-364a-46c0-8ccc-d0831f9a7abe",
   "metadata": {},
   "outputs": [],
   "source": [
    "loss.backward()"
   ]
  },
  {
   "cell_type": "code",
   "execution_count": 41,
   "id": "3bb7bc4f-c447-4b36-9546-81c79b7e0ee4",
   "metadata": {},
   "outputs": [
    {
     "name": "stdout",
     "output_type": "stream",
     "text": [
      "tensor([[ 1.0686,  0.9652, -1.1211],\n",
      "        [ 0.7520, -1.5875,  0.2038]], requires_grad=True)\n"
     ]
    }
   ],
   "source": [
    "print(w)"
   ]
  },
  {
   "cell_type": "code",
   "execution_count": 42,
   "id": "00173fe0-6b91-45cb-b693-02ae95547c12",
   "metadata": {},
   "outputs": [
    {
     "name": "stdout",
     "output_type": "stream",
     "text": [
      "tensor([[  3351.5881,   2539.5820,   1598.0076],\n",
      "        [-12548.9971, -15703.3076,  -9197.6826]])\n"
     ]
    }
   ],
   "source": [
    "print(w.grad)"
   ]
  },
  {
   "cell_type": "code",
   "execution_count": 43,
   "id": "b9c67e88-e681-4c98-9f3b-306a9b88ad81",
   "metadata": {},
   "outputs": [
    {
     "name": "stdout",
     "output_type": "stream",
     "text": [
      "tensor([[0., 0., 0.],\n",
      "        [0., 0., 0.]])\n",
      "tensor([0., 0.])\n"
     ]
    }
   ],
   "source": [
    "w.grad.zero_()\n",
    "b.grad.zero_()\n",
    "print(w.grad)\n",
    "print(b.grad)"
   ]
  },
  {
   "cell_type": "markdown",
   "id": "2be66da0-8c41-4b40-924b-7c43bdb4328e",
   "metadata": {},
   "source": [
    "## Adjust Weights and biases gradient descent"
   ]
  },
  {
   "cell_type": "code",
   "execution_count": 44,
   "id": "7785a86b-20a8-466d-9359-d18c3ec5bddf",
   "metadata": {},
   "outputs": [
    {
     "name": "stdout",
     "output_type": "stream",
     "text": [
      "tensor([[  94.7209,  -43.5675],\n",
      "        [ 110.6806,  -59.0885],\n",
      "        [ 157.5298, -136.3450],\n",
      "        [ 109.2723,   15.1190],\n",
      "        [  88.1667,  -87.1106]], grad_fn=<AddBackward0>)\n"
     ]
    }
   ],
   "source": [
    "# generate predections\n",
    "preds = model(inputs)\n",
    "print(preds)"
   ]
  },
  {
   "cell_type": "code",
   "execution_count": 45,
   "id": "6b513061-1f03-4f1e-8c3c-167b7eb091ac",
   "metadata": {},
   "outputs": [
    {
     "name": "stdout",
     "output_type": "stream",
     "text": [
      "tensor(16573.4258, grad_fn=<DivBackward0>)\n"
     ]
    }
   ],
   "source": [
    "# calculate the loss\n",
    "loss = mse(preds, targets)\n",
    "print(loss)"
   ]
  },
  {
   "cell_type": "code",
   "execution_count": 46,
   "id": "d8ed300a-9625-4dde-b2a4-8321b26fc599",
   "metadata": {},
   "outputs": [
    {
     "name": "stdout",
     "output_type": "stream",
     "text": [
      "tensor([[  3351.5881,   2539.5820,   1598.0076],\n",
      "        [-12548.9971, -15703.3076,  -9197.6826]])\n",
      "tensor([  35.8741, -154.1985])\n"
     ]
    }
   ],
   "source": [
    "# compute gradients\n",
    "loss.backward()\n",
    "print(w.grad)\n",
    "print(b.grad)"
   ]
  },
  {
   "cell_type": "code",
   "execution_count": 48,
   "id": "779c5895-24aa-417b-947d-4e7175531c21",
   "metadata": {},
   "outputs": [],
   "source": [
    "# Adjust weights & reset gradients\n",
    "with torch.no_grad():\n",
    "    w -= w.grad * 0.00005\n",
    "    b -= b.grad * 0.00005\n",
    "    w.grad.zero_()\n",
    "    b.grad.zero_()"
   ]
  },
  {
   "cell_type": "code",
   "execution_count": 49,
   "id": "1e26fa97-7f49-4a25-b98e-3e580006143e",
   "metadata": {},
   "outputs": [
    {
     "name": "stdout",
     "output_type": "stream",
     "text": [
      "tensor([[ 0.9010,  0.8382, -1.2010],\n",
      "        [ 1.3795, -0.8023,  0.6637]], requires_grad=True)\n",
      "tensor([ 0.2546, -0.8596], requires_grad=True)\n"
     ]
    }
   ],
   "source": [
    "print(w)\n",
    "print(b)"
   ]
  },
  {
   "cell_type": "code",
   "execution_count": 50,
   "id": "3c4f17ce-f800-4991-af8c-ea2c9523fe48",
   "metadata": {},
   "outputs": [
    {
     "name": "stdout",
     "output_type": "stream",
     "text": [
      "tensor(2457.7056, grad_fn=<DivBackward0>)\n"
     ]
    }
   ],
   "source": [
    "# calculate loss\n",
    "preds = model(inputs)\n",
    "loss = mse(preds, targets)\n",
    "print(loss)"
   ]
  },
  {
   "cell_type": "markdown",
   "id": "47945f12-1f87-4aac-984f-2e1d39231b53",
   "metadata": {},
   "source": [
    "the loss as reduced very much."
   ]
  },
  {
   "cell_type": "markdown",
   "id": "71d6b37b-ca5e-435f-b1b8-7a8934cc1b27",
   "metadata": {},
   "source": [
    "## Train for multiple epochs"
   ]
  },
  {
   "cell_type": "code",
   "execution_count": 55,
   "id": "66678e30-0767-4685-b198-3ee2f6c14247",
   "metadata": {},
   "outputs": [],
   "source": [
    "for i in range(1000):\n",
    "    preds = model(inputs)\n",
    "    loss = mse(preds, targets)\n",
    "    loss.backward()\n",
    "    with torch.no_grad():\n",
    "        w -= w.grad * 1e-5\n",
    "        b -= b.grad * 1e-5\n",
    "        w.grad.zero_()\n",
    "        b.grad.zero_()"
   ]
  },
  {
   "cell_type": "code",
   "execution_count": 56,
   "id": "6e64de50-1865-433a-8b92-022b254ed183",
   "metadata": {},
   "outputs": [
    {
     "name": "stdout",
     "output_type": "stream",
     "text": [
      "tensor(24.2751, grad_fn=<DivBackward0>)\n"
     ]
    }
   ],
   "source": [
    "# calculate loss\n",
    "preds = model(inputs)\n",
    "loss = mse(preds, targets)\n",
    "print(loss)"
   ]
  },
  {
   "cell_type": "code",
   "execution_count": 57,
   "id": "9dda3490-0640-4f96-ba46-15963334d8e7",
   "metadata": {},
   "outputs": [
    {
     "data": {
      "text/plain": [
       "tensor([[ 57.7958,  70.1865],\n",
       "        [ 77.3168, 100.7204],\n",
       "        [128.8016, 133.0386],\n",
       "        [ 23.9653,  37.1636],\n",
       "        [ 91.7802, 118.9668]], grad_fn=<AddBackward0>)"
      ]
     },
     "execution_count": 57,
     "metadata": {},
     "output_type": "execute_result"
    }
   ],
   "source": [
    "preds"
   ]
  },
  {
   "cell_type": "code",
   "execution_count": 58,
   "id": "2efa8aec-a0d9-47b6-a53f-d4d964ac7b8b",
   "metadata": {},
   "outputs": [
    {
     "data": {
      "text/plain": [
       "tensor([[ 56.,  70.],\n",
       "        [ 81., 101.],\n",
       "        [119., 133.],\n",
       "        [ 22.,  37.],\n",
       "        [103., 119.]])"
      ]
     },
     "execution_count": 58,
     "metadata": {},
     "output_type": "execute_result"
    }
   ],
   "source": [
    "targets"
   ]
  },
  {
   "cell_type": "markdown",
   "id": "b63ace81-3537-41b4-89f1-182ddbc2fae3",
   "metadata": {},
   "source": [
    "## Linear regression using Pytorch built-ins"
   ]
  },
  {
   "cell_type": "code",
   "execution_count": 60,
   "id": "db9751a1-26e5-4638-9160-a2aeeeb42e9b",
   "metadata": {},
   "outputs": [],
   "source": [
    "import torch.nn as nn"
   ]
  },
  {
   "cell_type": "code",
   "execution_count": 61,
   "id": "5ecaaa7a-93c9-433f-98e9-a99af12b39ed",
   "metadata": {},
   "outputs": [],
   "source": [
    "# Inputs (temp, rainfall, humidity)\n",
    "inputs = np.array([[73, 67, 43], [91, 88, 64], [87, 134, 58],\n",
    "                 [102, 43, 37], [69, 96, 70], [73, 67, 43],\n",
    "                 [91, 88, 64], [87, 134, 58], [102, 43, 37],\n",
    "                 [69, 96, 70], [73, 67, 43], [91, 88, 64],\n",
    "                 [87, 134, 58], [102, 43, 37], [69, 96, 70]], dtype='float32')\n",
    "\n",
    "# Targets (apples, oranges)\n",
    "targets = np.array([[56, 70], [81, 101], [119, 133],\n",
    "                   [22, 37], [103, 119], [56, 70],\n",
    "                   [81, 101], [119, 133], [22, 37],\n",
    "                   [103, 119], [56, 70], [81, 101],\n",
    "                   [119, 133], [22, 37], [103, 119]], dtype='float32')"
   ]
  },
  {
   "cell_type": "code",
   "execution_count": 62,
   "id": "188e582b-ccdc-4579-8797-2e7dc9409809",
   "metadata": {},
   "outputs": [],
   "source": [
    "inputs = torch.from_numpy(inputs)\n",
    "targets = torch.from_numpy(targets)"
   ]
  },
  {
   "cell_type": "code",
   "execution_count": 63,
   "id": "04130d2c-080b-439c-a5b1-ba697d4b6bc5",
   "metadata": {},
   "outputs": [
    {
     "data": {
      "text/plain": [
       "tensor([[ 73.,  67.,  43.],\n",
       "        [ 91.,  88.,  64.],\n",
       "        [ 87., 134.,  58.],\n",
       "        [102.,  43.,  37.],\n",
       "        [ 69.,  96.,  70.],\n",
       "        [ 73.,  67.,  43.],\n",
       "        [ 91.,  88.,  64.],\n",
       "        [ 87., 134.,  58.],\n",
       "        [102.,  43.,  37.],\n",
       "        [ 69.,  96.,  70.],\n",
       "        [ 73.,  67.,  43.],\n",
       "        [ 91.,  88.,  64.],\n",
       "        [ 87., 134.,  58.],\n",
       "        [102.,  43.,  37.],\n",
       "        [ 69.,  96.,  70.]])"
      ]
     },
     "execution_count": 63,
     "metadata": {},
     "output_type": "execute_result"
    }
   ],
   "source": [
    "inputs"
   ]
  },
  {
   "cell_type": "code",
   "execution_count": 64,
   "id": "af01d360-c387-4d50-a37d-51957cc4c059",
   "metadata": {},
   "outputs": [
    {
     "data": {
      "text/plain": [
       "tensor([[ 56.,  70.],\n",
       "        [ 81., 101.],\n",
       "        [119., 133.],\n",
       "        [ 22.,  37.],\n",
       "        [103., 119.],\n",
       "        [ 56.,  70.],\n",
       "        [ 81., 101.],\n",
       "        [119., 133.],\n",
       "        [ 22.,  37.],\n",
       "        [103., 119.],\n",
       "        [ 56.,  70.],\n",
       "        [ 81., 101.],\n",
       "        [119., 133.],\n",
       "        [ 22.,  37.],\n",
       "        [103., 119.]])"
      ]
     },
     "execution_count": 64,
     "metadata": {},
     "output_type": "execute_result"
    }
   ],
   "source": [
    "targets"
   ]
  },
  {
   "cell_type": "markdown",
   "id": "c5454858-0146-4601-bead-144401987593",
   "metadata": {},
   "source": [
    "## Dataset and DataLoader"
   ]
  },
  {
   "cell_type": "code",
   "execution_count": 65,
   "id": "5636ba7c-d37a-4235-9bf0-a9109197d488",
   "metadata": {},
   "outputs": [],
   "source": [
    "from torch.utils.data import TensorDataset"
   ]
  },
  {
   "cell_type": "code",
   "execution_count": 66,
   "id": "f544b785-fc34-40d4-9de4-aa12f246b32d",
   "metadata": {},
   "outputs": [
    {
     "data": {
      "text/plain": [
       "(tensor([[ 73.,  67.,  43.],\n",
       "         [ 91.,  88.,  64.],\n",
       "         [ 87., 134.,  58.]]),\n",
       " tensor([[ 56.,  70.],\n",
       "         [ 81., 101.],\n",
       "         [119., 133.]]))"
      ]
     },
     "execution_count": 66,
     "metadata": {},
     "output_type": "execute_result"
    }
   ],
   "source": [
    "train_ds = TensorDataset(inputs, targets)\n",
    "train_ds[0:3]"
   ]
  },
  {
   "cell_type": "markdown",
   "id": "6f32564a-a3b1-411d-8fa4-ce2ae8365a8d",
   "metadata": {},
   "source": [
    "for batch processing we use dataloader"
   ]
  },
  {
   "cell_type": "code",
   "execution_count": 68,
   "id": "417a0055-b8c4-4675-8a82-deefd2c46821",
   "metadata": {},
   "outputs": [],
   "source": [
    "from torch.utils.data import DataLoader"
   ]
  },
  {
   "cell_type": "code",
   "execution_count": 75,
   "id": "ee88d32f-3f5a-464b-950c-f9446ddecdba",
   "metadata": {},
   "outputs": [],
   "source": [
    "batch_size = 5\n",
    "train_dl = DataLoader(train_ds, batch_size, shuffle=True)"
   ]
  },
  {
   "cell_type": "code",
   "execution_count": 76,
   "id": "47ac380a-643c-430d-9e25-c3ed1bb32662",
   "metadata": {},
   "outputs": [
    {
     "name": "stdout",
     "output_type": "stream",
     "text": [
      "batch 1\n",
      "tensor([[ 91.,  88.,  64.],\n",
      "        [102.,  43.,  37.],\n",
      "        [ 73.,  67.,  43.],\n",
      "        [102.,  43.,  37.],\n",
      "        [ 73.,  67.,  43.]])\n",
      "tensor([[ 81., 101.],\n",
      "        [ 22.,  37.],\n",
      "        [ 56.,  70.],\n",
      "        [ 22.,  37.],\n",
      "        [ 56.,  70.]])\n",
      "batch 2\n",
      "tensor([[ 87., 134.,  58.],\n",
      "        [ 69.,  96.,  70.],\n",
      "        [ 73.,  67.,  43.],\n",
      "        [ 87., 134.,  58.],\n",
      "        [ 91.,  88.,  64.]])\n",
      "tensor([[119., 133.],\n",
      "        [103., 119.],\n",
      "        [ 56.,  70.],\n",
      "        [119., 133.],\n",
      "        [ 81., 101.]])\n",
      "batch 3\n",
      "tensor([[ 87., 134.,  58.],\n",
      "        [ 69.,  96.,  70.],\n",
      "        [102.,  43.,  37.],\n",
      "        [ 91.,  88.,  64.],\n",
      "        [ 69.,  96.,  70.]])\n",
      "tensor([[119., 133.],\n",
      "        [103., 119.],\n",
      "        [ 22.,  37.],\n",
      "        [ 81., 101.],\n",
      "        [103., 119.]])\n"
     ]
    }
   ],
   "source": [
    "count = 1\n",
    "for xb, yb in train_dl:\n",
    "    print(\"batch \" + str(count))\n",
    "    print(xb)\n",
    "    print(yb)\n",
    "    count += 1"
   ]
  },
  {
   "cell_type": "markdown",
   "id": "d3b2849e-ef38-4e0a-beab-26248c1c218d",
   "metadata": {},
   "source": [
    "## nn.Linear"
   ]
  },
  {
   "cell_type": "code",
   "execution_count": 77,
   "id": "e40783c6-0449-41d7-9378-0324f32952f9",
   "metadata": {},
   "outputs": [],
   "source": [
    "model = nn.Linear(3, 2)\n",
    "# no. of inputs 3\n",
    "# no. of outputs 2\n",
    "# 3 rows, 2 columsn of weights"
   ]
  },
  {
   "cell_type": "code",
   "execution_count": 78,
   "id": "61c98196-c5bf-45a9-a045-760d12b113ab",
   "metadata": {},
   "outputs": [
    {
     "name": "stdout",
     "output_type": "stream",
     "text": [
      "Parameter containing:\n",
      "tensor([[-0.2060, -0.5486,  0.4450],\n",
      "        [-0.3674, -0.2026, -0.4527]], requires_grad=True)\n",
      "Parameter containing:\n",
      "tensor([-0.3899,  0.1148], requires_grad=True)\n"
     ]
    }
   ],
   "source": [
    "print(model.weight)\n",
    "print(model.bias)"
   ]
  },
  {
   "cell_type": "code",
   "execution_count": 80,
   "id": "d26ffafe-429c-46a2-8ca3-942290ab5985",
   "metadata": {},
   "outputs": [
    {
     "data": {
      "text/plain": [
       "[Parameter containing:\n",
       " tensor([[-0.2060, -0.5486,  0.4450],\n",
       "         [-0.3674, -0.2026, -0.4527]], requires_grad=True),\n",
       " Parameter containing:\n",
       " tensor([-0.3899,  0.1148], requires_grad=True)]"
      ]
     },
     "execution_count": 80,
     "metadata": {},
     "output_type": "execute_result"
    }
   ],
   "source": [
    "# parameters\n",
    "list(model.parameters())"
   ]
  },
  {
   "cell_type": "code",
   "execution_count": 81,
   "id": "02622176-18cc-4fcf-ae2c-26bfed322e38",
   "metadata": {},
   "outputs": [
    {
     "data": {
      "text/plain": [
       "tensor([[-33.0508, -59.7442],\n",
       "        [-38.9353, -80.1180],\n",
       "        [-66.0176, -85.2513],\n",
       "        [-28.5274, -62.8210],\n",
       "        [-36.1228, -76.3717],\n",
       "        [-33.0508, -59.7442],\n",
       "        [-38.9353, -80.1180],\n",
       "        [-66.0176, -85.2513],\n",
       "        [-28.5274, -62.8210],\n",
       "        [-36.1228, -76.3717],\n",
       "        [-33.0508, -59.7442],\n",
       "        [-38.9353, -80.1180],\n",
       "        [-66.0176, -85.2513],\n",
       "        [-28.5274, -62.8210],\n",
       "        [-36.1228, -76.3717]], grad_fn=<AddmmBackward0>)"
      ]
     },
     "execution_count": 81,
     "metadata": {},
     "output_type": "execute_result"
    }
   ],
   "source": [
    "# Generate predictions\n",
    "preds = model(inputs)\n",
    "preds"
   ]
  },
  {
   "cell_type": "markdown",
   "id": "d80650b2-dbeb-4562-9b67-1702391dd04b",
   "metadata": {},
   "source": [
    "## Loss function\n",
    "Insted of defining a loss function manually, we can use the built-in loss function mse_loss"
   ]
  },
  {
   "cell_type": "code",
   "execution_count": 82,
   "id": "0c183ff0-9577-4e2c-be3e-01640f0fd92e",
   "metadata": {},
   "outputs": [],
   "source": [
    " import torch.nn.functional as F"
   ]
  },
  {
   "cell_type": "markdown",
   "id": "a9475326-2caa-4ade-ae1f-7d9fd7380502",
   "metadata": {},
   "source": [
    "The nn.functioal package contains many useful loss functions and several other utilities."
   ]
  },
  {
   "cell_type": "code",
   "execution_count": 84,
   "id": "ea2ae2ff-db84-4026-ab2b-89c3cad48db1",
   "metadata": {},
   "outputs": [],
   "source": [
    "# define loss function\n",
    "loss_fn = F.mse_loss"
   ]
  },
  {
   "cell_type": "code",
   "execution_count": 85,
   "id": "fd090a69-4be0-4f92-a5bb-a8cdfbda5264",
   "metadata": {},
   "outputs": [
    {
     "name": "stdout",
     "output_type": "stream",
     "text": [
      "tensor(22385.9434, grad_fn=<MseLossBackward0>)\n"
     ]
    }
   ],
   "source": [
    "loss = loss_fn(model(inputs), targets)\n",
    "print(loss)"
   ]
  },
  {
   "cell_type": "markdown",
   "id": "c5cafdb9-d294-41bd-87c5-50639a1001f7",
   "metadata": {},
   "source": [
    "## Optimizer\n",
    "\n",
    "Insted of manually manipulating the models weights & biases using gradients, we can use the optimizer **optim.SGD** . SGD stangs for stochastic grasient descent. It is called stochastic because samples are selected in batches (often with random shuffling) insted of as a single group."
   ]
  },
  {
   "cell_type": "code",
   "execution_count": 86,
   "id": "194818a8-f734-4edf-ba48-6c38c375062f",
   "metadata": {},
   "outputs": [],
   "source": [
    "# Define optimizer\n",
    "opt = torch.optim.SGD(model.parameters(), lr=1e-5)"
   ]
  },
  {
   "cell_type": "markdown",
   "id": "38c87bed-3c7c-4027-aaa3-c38ed89d03e9",
   "metadata": {},
   "source": [
    "Note that model.parameters() is passed as an argument to optim.SGD, so that the optimizer knows which matrices should be modified during the udate step.Also, we can specify a learning rate which controls the amount by whcuh the parameters are modified."
   ]
  },
  {
   "cell_type": "code",
   "execution_count": 89,
   "id": "901e1bb6-4230-41b4-80d7-7231c81c89f6",
   "metadata": {},
   "outputs": [],
   "source": [
    " # Utility function to train the model\n",
    "def fit(num_epochs, model, loss_fn, opt, train_dl):\n",
    "\n",
    "    for epoch in range(num_epochs):\n",
    "\n",
    "        # Train with batches of data\n",
    "        for xb, yb in train_dl:\n",
    "\n",
    "            #1. Generate predictions\n",
    "            pred = model(xb)\n",
    "\n",
    "            #2. calculate loss\n",
    "            loss = loss_fn(pred, yb)\n",
    "\n",
    "            #3. Compute gradients\n",
    "            loss.backward()\n",
    "\n",
    "            #4. update parameters using gradients\n",
    "            opt.step()\n",
    "\n",
    "            #5. Reset the gradients to zero\n",
    "            opt.zero_grad()\n",
    "            \n",
    "        #print the progress\n",
    "        if (epoch+1) % 10 == 0:\n",
    "            print('Epoch [{}/{}], Loss : {:.4f}'.format(epoch+1, num_epochs, loss_fn(model(inputs), targets)))"
   ]
  },
  {
   "cell_type": "code",
   "execution_count": 91,
   "id": "c2d74062-8f31-462a-9b89-39646531284c",
   "metadata": {},
   "outputs": [
    {
     "name": "stdout",
     "output_type": "stream",
     "text": [
      "Epoch [10/100], Loss : 393.4706\n",
      "Epoch [20/100], Loss : 277.1988\n",
      "Epoch [30/100], Loss : 197.5967\n",
      "Epoch [40/100], Loss : 143.0316\n",
      "Epoch [50/100], Loss : 105.3120\n",
      "Epoch [60/100], Loss : 79.2785\n",
      "Epoch [70/100], Loss : 61.1683\n",
      "Epoch [80/100], Loss : 48.4897\n",
      "Epoch [90/100], Loss : 39.4412\n",
      "Epoch [100/100], Loss : 32.9866\n"
     ]
    }
   ],
   "source": [
    "fit(100, model, loss_fn, opt, train_dl)"
   ]
  },
  {
   "cell_type": "code",
   "execution_count": 92,
   "id": "deffa6ca-67e5-42b2-b672-cdd2527020d7",
   "metadata": {},
   "outputs": [
    {
     "data": {
      "text/plain": [
       "tensor([[ 58.1281,  71.6960],\n",
       "        [ 84.3213,  96.8535],\n",
       "        [111.9858, 139.5206],\n",
       "        [ 27.4811,  44.3913],\n",
       "        [101.8128, 108.2096],\n",
       "        [ 58.1281,  71.6960],\n",
       "        [ 84.3213,  96.8535],\n",
       "        [111.9858, 139.5206],\n",
       "        [ 27.4811,  44.3913],\n",
       "        [101.8128, 108.2096],\n",
       "        [ 58.1281,  71.6960],\n",
       "        [ 84.3213,  96.8535],\n",
       "        [111.9858, 139.5206],\n",
       "        [ 27.4811,  44.3913],\n",
       "        [101.8128, 108.2096]], grad_fn=<AddmmBackward0>)"
      ]
     },
     "execution_count": 92,
     "metadata": {},
     "output_type": "execute_result"
    }
   ],
   "source": [
    "# Generate Predictions\n",
    "preds = model(inputs)\n",
    "preds"
   ]
  },
  {
   "cell_type": "code",
   "execution_count": 93,
   "id": "ab9b1570-30ae-4d4d-8c1b-460175a5676e",
   "metadata": {},
   "outputs": [
    {
     "data": {
      "text/plain": [
       "tensor([[ 56.,  70.],\n",
       "        [ 81., 101.],\n",
       "        [119., 133.],\n",
       "        [ 22.,  37.],\n",
       "        [103., 119.],\n",
       "        [ 56.,  70.],\n",
       "        [ 81., 101.],\n",
       "        [119., 133.],\n",
       "        [ 22.,  37.],\n",
       "        [103., 119.],\n",
       "        [ 56.,  70.],\n",
       "        [ 81., 101.],\n",
       "        [119., 133.],\n",
       "        [ 22.,  37.],\n",
       "        [103., 119.]])"
      ]
     },
     "execution_count": 93,
     "metadata": {},
     "output_type": "execute_result"
    }
   ],
   "source": [
    "# compare with targets\n",
    "targets"
   ]
  },
  {
   "cell_type": "code",
   "execution_count": null,
   "id": "7f2e2600-63f1-4378-a5ab-a4c773fc8f28",
   "metadata": {},
   "outputs": [],
   "source": []
  }
 ],
 "metadata": {
  "kernelspec": {
   "display_name": "Python 3 (ipykernel)",
   "language": "python",
   "name": "python3"
  },
  "language_info": {
   "codemirror_mode": {
    "name": "ipython",
    "version": 3
   },
   "file_extension": ".py",
   "mimetype": "text/x-python",
   "name": "python",
   "nbconvert_exporter": "python",
   "pygments_lexer": "ipython3",
   "version": "3.12.3"
  }
 },
 "nbformat": 4,
 "nbformat_minor": 5
}
